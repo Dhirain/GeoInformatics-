{
 "cells": [
  {
   "cell_type": "markdown",
   "metadata": {},
   "source": [
    "# Motivation\n",
    "\n",
    "Statistically prove that drought has occured in year 2018 for xanten area by showing relationship between rise in temperature with drop in NDVI\n",
    "\n",
    "This python code also covers correaltion analysis of QGIS mean with average temperature and Cummulative preciptaion "
   ]
  },
  {
   "cell_type": "markdown",
   "metadata": {
    "colab_type": "text",
    "id": "JlEfIpdkX-qQ"
   },
   "source": [
    "# Steps to be followed for analysis\n",
    "\n",
    " 1) Read DWD CDC Time Series Temperature <br />\n",
    " 2) Merge with Station Description of Xanten <br />\n",
    " 3) Filtering data of interested time range <br />\n",
    " 4) Temperature analysis over Time range <br />\n",
    " 5) Save data from time series analysis <br />\n",
    " 6) correlation of Qgis with average temperature and cumulative preciptation <br />\n",
    " 7) find confidence interval for temperature data\n"
   ]
  },
  {
   "cell_type": "markdown",
   "metadata": {},
   "source": [
    "# Prerequisite\n",
    "QGIS file with mean NDVI data for 6 station found in this analysis\n",
    "\n",
    "The file can be found in following link:\n",
    "\n",
    "However, if the programmer doesn't upload the excel file, the below cell will use default data obtained while developing the report"
   ]
  },
  {
   "cell_type": "code",
   "execution_count": 65,
   "metadata": {},
   "outputs": [
    {
     "name": "stdout",
     "output_type": "stream",
     "text": [
      "file found in local directory\n"
     ]
    }
   ],
   "source": [
    "import pandas as pd\n",
    "\n",
    "default_qgis_data = {'id':[32,18,15,9,1,40,38,34],\n",
    "                    'MEAN_2016_05_08' : [0.798207816,0.889796897,0.864534478,0.736265187,0.845699309,0.914392008,0.081530087,0.513230467],\n",
    "                    'MEAN_2016_06_10' : [0.77534111,0.842772263,0.74687512,0.763493687,0.862347455,0.725684512,0.188504494,0.524512342],\n",
    "                    'MEAN_2017_05_26' : [0.671227722,0.691735776,0.906338832,0.136578793,0.930504249,0.376984843,-0.622984408,0.53763009],\n",
    "                    'MEAN_2018_05_08' : [0.79474485,0.89837589,0.882192349,0.76129674,0.878997045,0.890842712,-0.018545704,0.536608263],\n",
    "                    'MEAN_2018_05_11' : [0.752385138,0.862055903,0.855936285,0.702213087,0.767197773,0.860189973,0.180963576,0.493365795],\n",
    "                    'MEAN_2018_06_30' : [0.4798344080,721545304,0.705694952,0.415770331,0.899321827,0.358735534,0.02140258,0.483505983]\n",
    "                    }\n",
    "\n",
    "try:\n",
    "    df_ndvi = pd.read_excel('QGIS_ID.xlsx') # download excel sheet from above mentioned link and update the location \n",
    "    print('file found in local directory')\n",
    "except:\n",
    "    print('file not found in local directory')\n",
    "    print('Using default data')\n",
    "    df_ndvi = pd.DataFrame(default_qgis_data)\n",
    "    "
   ]
  },
  {
   "cell_type": "markdown",
   "metadata": {
    "colab_type": "text",
    "id": "jMcy6KVIX-qW"
   },
   "source": [
    "## FTP Connection"
   ]
  },
  {
   "cell_type": "markdown",
   "metadata": {
    "colab_type": "text",
    "id": "adZX4hfOX-qY"
   },
   "source": [
    "### Connection Parameters"
   ]
  },
  {
   "cell_type": "code",
   "execution_count": 66,
   "metadata": {
    "colab": {},
    "colab_type": "code",
    "id": "HkIJRV6AX-qa"
   },
   "outputs": [],
   "source": [
    "server = \"opendata.dwd.de\"\n",
    "user   = \"anonymous\"\n",
    "passwd = \"\""
   ]
  },
  {
   "cell_type": "markdown",
   "metadata": {
    "colab_type": "text",
    "id": "zRA5rrIyX-qh"
   },
   "source": [
    "### FTP Directory Definition and Station Description Filename Pattern"
   ]
  },
  {
   "cell_type": "code",
   "execution_count": 67,
   "metadata": {
    "colab": {},
    "colab_type": "code",
    "id": "nTa9lNZgX-qj"
   },
   "outputs": [],
   "source": [
    "# The topic of interest.\n",
    "# topic_dir = \"/hourly/precipitation/recent/\"\n",
    "topic_dir = \"/daily/kl/historical/\"\n",
    "\n",
    "# This is the search pattern common to ALL station description file names \n",
    "station_desc_pattern = \"_Beschreibung_Stationen.txt\"\n",
    "\n",
    "# Below this directory tree node all climate data are stored.\n",
    "ftp_climate_data_dir = \"/climate_environment/CDC/observations_germany/climate/\"\n",
    "ftp_dir =  ftp_climate_data_dir + topic_dir"
   ]
  },
  {
   "cell_type": "markdown",
   "metadata": {
    "colab_type": "text",
    "id": "6P3yS7eRX-qt"
   },
   "source": [
    "### Local Directories"
   ]
  },
  {
   "cell_type": "code",
   "execution_count": 68,
   "metadata": {
    "colab": {},
    "colab_type": "code",
    "id": "bpqF1DrzX-qu"
   },
   "outputs": [],
   "source": [
    "local_ftp_dir         = \"data/original/DWD/\"      # Local directory to store local ftp data copies, the local data source or input data. \n",
    "local_ftp_station_dir = local_ftp_dir + topic_dir # Local directory where local station info is located\n",
    "local_ftp_ts_dir      = local_ftp_dir + topic_dir # Local directory where time series downloaded from ftp are located\n",
    "\n",
    "local_generated_dir   = \"data/generated/DWD/\" # The generated of derived data in contrast to local_ftp_dir\n",
    "local_station_dir     = local_generated_dir + topic_dir # Derived station data, i.e. the CSV file\n",
    "local_ts_merged_dir   = local_generated_dir + topic_dir # Parallel merged time series, wide data frame with one TS per column\n",
    "local_ts_appended_dir = local_generated_dir + topic_dir # Serially appended time series, long data frame for QGIS TimeManager Plugin"
   ]
  },
  {
   "cell_type": "code",
   "execution_count": 69,
   "metadata": {
    "colab": {
     "base_uri": "https://localhost:8080/",
     "height": 153
    },
    "colab_type": "code",
    "id": "JyjvJ0Y1X-q0",
    "outputId": "a65e31e7-405b-4ce9-fd33-082736b52c12",
    "scrolled": true
   },
   "outputs": [
    {
     "name": "stdout",
     "output_type": "stream",
     "text": [
      "data/original/DWD/\n",
      "data/original/DWD//daily/kl/historical/\n",
      "data/original/DWD//daily/kl/historical/\n",
      "\n",
      "data/generated/DWD/\n",
      "data/generated/DWD//daily/kl/historical/\n",
      "data/generated/DWD//daily/kl/historical/\n",
      "data/generated/DWD//daily/kl/historical/\n"
     ]
    }
   ],
   "source": [
    "print(local_ftp_dir)\n",
    "print(local_ftp_station_dir)\n",
    "print(local_ftp_ts_dir)\n",
    "print()\n",
    "print(local_generated_dir)\n",
    "print(local_station_dir)\n",
    "print(local_ts_merged_dir)\n",
    "print(local_ts_appended_dir)"
   ]
  },
  {
   "cell_type": "code",
   "execution_count": 70,
   "metadata": {
    "colab": {},
    "colab_type": "code",
    "id": "dP3rZUs-X-q9"
   },
   "outputs": [],
   "source": [
    "import os\n",
    "os.makedirs(local_ftp_dir,exist_ok = True) # it does not complain if the dir already exists.\n",
    "os.makedirs(local_ftp_station_dir,exist_ok = True)\n",
    "os.makedirs(local_ftp_ts_dir,exist_ok = True)\n",
    "\n",
    "os.makedirs(local_generated_dir,exist_ok = True)\n",
    "os.makedirs(local_station_dir,exist_ok = True)\n",
    "os.makedirs(local_ts_merged_dir,exist_ok = True)\n",
    "os.makedirs(local_ts_appended_dir,exist_ok = True)"
   ]
  },
  {
   "cell_type": "markdown",
   "metadata": {
    "colab_type": "text",
    "id": "t1DYDow9X-rG"
   },
   "source": [
    "### FTP Connect"
   ]
  },
  {
   "cell_type": "code",
   "execution_count": 71,
   "metadata": {
    "colab": {
     "base_uri": "https://localhost:8080/",
     "height": 34
    },
    "colab_type": "code",
    "id": "B3O1duj_X-rJ",
    "outputId": "cd0de2cd-eda0-4368-8c02-fa9625f0bd7f"
   },
   "outputs": [
    {
     "name": "stdout",
     "output_type": "stream",
     "text": [
      "230 Login successful.\n"
     ]
    }
   ],
   "source": [
    "import ftplib\n",
    "ftp = ftplib.FTP(server)\n",
    "res = ftp.login(user=user, passwd = passwd)\n",
    "print(res)"
   ]
  },
  {
   "cell_type": "code",
   "execution_count": 72,
   "metadata": {
    "colab": {},
    "colab_type": "code",
    "id": "X2c7elARX-rT"
   },
   "outputs": [],
   "source": [
    "ret = ftp.cwd(\".\")"
   ]
  },
  {
   "cell_type": "code",
   "execution_count": 73,
   "metadata": {
    "colab": {},
    "colab_type": "code",
    "id": "NwMOZMyYX-rc"
   },
   "outputs": [],
   "source": [
    "#ftp.quit()"
   ]
  },
  {
   "cell_type": "markdown",
   "metadata": {
    "colab_type": "text",
    "id": "EQdzGSwFX-rh"
   },
   "source": [
    "### FTP Grab File Function"
   ]
  },
  {
   "cell_type": "code",
   "execution_count": 74,
   "metadata": {
    "colab": {},
    "colab_type": "code",
    "id": "I6T_sFkbX-rj"
   },
   "outputs": [],
   "source": [
    "def grabFile(ftpfullname,localfullname):\n",
    "    try:\n",
    "        ret = ftp.cwd(\".\") # A dummy action to chack the connection and to provoke an exception if necessary.\n",
    "        localfile = open(localfullname, 'wb')\n",
    "        ftp.retrbinary('RETR ' + ftpfullname, localfile.write, 1024)\n",
    "        localfile.close()\n",
    "    \n",
    "    except ftplib.error_perm:\n",
    "        print(\"FTP ERROR. Operation not permitted. File not found?\")\n",
    "\n",
    "    except ftplib.error_temp:\n",
    "        print(\"FTP ERROR. Timeout.\")\n",
    "\n",
    "    except ConnectionAbortedError:\n",
    "        print(\"FTP ERROR. Connection aborted.\")\n",
    "\n"
   ]
  },
  {
   "cell_type": "markdown",
   "metadata": {
    "colab_type": "text",
    "id": "BQ7Ta6n9X-rn"
   },
   "source": [
    "### Generate Pandas Dataframe from FTP Directory Listing"
   ]
  },
  {
   "cell_type": "code",
   "execution_count": 75,
   "metadata": {
    "colab": {},
    "colab_type": "code",
    "id": "SKihln8jX-rp"
   },
   "outputs": [],
   "source": [
    "import pandas as pd\n",
    "import os\n",
    "\n",
    "def gen_df_from_ftp_dir_listing(ftp, ftpdir):\n",
    "    lines = []\n",
    "    flist = []\n",
    "    try:    \n",
    "        res = ftp.retrlines(\"LIST \"+ftpdir, lines.append)\n",
    "    except:\n",
    "        print(\"Error: ftp.retrlines() failed. ftp timeout? Reconnect!\")\n",
    "        return\n",
    "        \n",
    "    if len(lines) == 0:\n",
    "        print(\"Error: ftp dir is empty\")\n",
    "        return\n",
    "    \n",
    "    for line in lines:\n",
    "#        print(line)\n",
    "        [ftype, fsize, fname] = [line[0:1], int(line[31:42]), line[56:]]\n",
    "#        itemlist = [line[0:1], int(line[31:42]), line[56:]]\n",
    "#        flist.append(itemlist)\n",
    "        \n",
    "        fext = os.path.splitext(fname)[-1]\n",
    "        \n",
    "        if fext == \".zip\":\n",
    "            station_id = int(fname.split(\"_\")[2])\n",
    "        else:\n",
    "            station_id = -1 \n",
    "        \n",
    "        flist.append([station_id, fname, fext, fsize, ftype])\n",
    "        \n",
    "        \n",
    "\n",
    "    df_ftpdir = pd.DataFrame(flist,columns=[\"station_id\", \"name\", \"ext\", \"size\", \"type\"])\n",
    "    return(df_ftpdir)"
   ]
  },
  {
   "cell_type": "code",
   "execution_count": 76,
   "metadata": {
    "colab": {},
    "colab_type": "code",
    "id": "5KoBcU5LX-rt"
   },
   "outputs": [],
   "source": [
    "df_ftpdir = gen_df_from_ftp_dir_listing(ftp, ftp_dir)"
   ]
  },
  {
   "cell_type": "code",
   "execution_count": 77,
   "metadata": {
    "colab": {
     "base_uri": "https://localhost:8080/",
     "height": 359
    },
    "colab_type": "code",
    "id": "sXrMkFvLX-ry",
    "outputId": "cca8bef8-c2f1-41ee-92fe-a95a165a396a"
   },
   "outputs": [
    {
     "data": {
      "text/html": [
       "<div>\n",
       "<style scoped>\n",
       "    .dataframe tbody tr th:only-of-type {\n",
       "        vertical-align: middle;\n",
       "    }\n",
       "\n",
       "    .dataframe tbody tr th {\n",
       "        vertical-align: top;\n",
       "    }\n",
       "\n",
       "    .dataframe thead th {\n",
       "        text-align: right;\n",
       "    }\n",
       "</style>\n",
       "<table border=\"1\" class=\"dataframe\">\n",
       "  <thead>\n",
       "    <tr style=\"text-align: right;\">\n",
       "      <th></th>\n",
       "      <th>station_id</th>\n",
       "      <th>name</th>\n",
       "      <th>ext</th>\n",
       "      <th>size</th>\n",
       "      <th>type</th>\n",
       "    </tr>\n",
       "  </thead>\n",
       "  <tbody>\n",
       "    <tr>\n",
       "      <th>0</th>\n",
       "      <td>-1</td>\n",
       "      <td>BESCHREIBUNG_obsgermany_climate_daily_kl_histo...</td>\n",
       "      <td>.pdf</td>\n",
       "      <td>74902</td>\n",
       "      <td>-</td>\n",
       "    </tr>\n",
       "    <tr>\n",
       "      <th>1</th>\n",
       "      <td>-1</td>\n",
       "      <td>DESCRIPTION_obsgermany_climate_daily_kl_histor...</td>\n",
       "      <td>.pdf</td>\n",
       "      <td>73419</td>\n",
       "      <td>-</td>\n",
       "    </tr>\n",
       "    <tr>\n",
       "      <th>2</th>\n",
       "      <td>-1</td>\n",
       "      <td>KL_Tageswerte_Beschreibung_Stationen.txt</td>\n",
       "      <td>.txt</td>\n",
       "      <td>267457</td>\n",
       "      <td>-</td>\n",
       "    </tr>\n",
       "    <tr>\n",
       "      <th>3</th>\n",
       "      <td>1</td>\n",
       "      <td>tageswerte_KL_00001_19370101_19860630_hist.zip</td>\n",
       "      <td>.zip</td>\n",
       "      <td>282024</td>\n",
       "      <td>-</td>\n",
       "    </tr>\n",
       "    <tr>\n",
       "      <th>4</th>\n",
       "      <td>3</td>\n",
       "      <td>tageswerte_KL_00003_18910101_20110331_hist.zip</td>\n",
       "      <td>.zip</td>\n",
       "      <td>887544</td>\n",
       "      <td>-</td>\n",
       "    </tr>\n",
       "  </tbody>\n",
       "</table>\n",
       "</div>"
      ],
      "text/plain": [
       "   station_id                                               name   ext  \\\n",
       "0          -1  BESCHREIBUNG_obsgermany_climate_daily_kl_histo...  .pdf   \n",
       "1          -1  DESCRIPTION_obsgermany_climate_daily_kl_histor...  .pdf   \n",
       "2          -1           KL_Tageswerte_Beschreibung_Stationen.txt  .txt   \n",
       "3           1     tageswerte_KL_00001_19370101_19860630_hist.zip  .zip   \n",
       "4           3     tageswerte_KL_00003_18910101_20110331_hist.zip  .zip   \n",
       "\n",
       "     size type  \n",
       "0   74902    -  \n",
       "1   73419    -  \n",
       "2  267457    -  \n",
       "3  282024    -  \n",
       "4  887544    -  "
      ]
     },
     "execution_count": 77,
     "metadata": {},
     "output_type": "execute_result"
    }
   ],
   "source": [
    "df_ftpdir.head()"
   ]
  },
  {
   "cell_type": "markdown",
   "metadata": {
    "colab_type": "text",
    "id": "b0ScXIr9X-r2"
   },
   "source": [
    "### Dataframe with TS Zip Files"
   ]
  },
  {
   "cell_type": "code",
   "execution_count": 78,
   "metadata": {
    "colab": {
     "base_uri": "https://localhost:8080/",
     "height": 390
    },
    "colab_type": "code",
    "id": "B6KCfqHuX-r5",
    "outputId": "5f6d4a2b-baed-42aa-c8e4-be1a5f30a3b5"
   },
   "outputs": [
    {
     "data": {
      "text/html": [
       "<div>\n",
       "<style scoped>\n",
       "    .dataframe tbody tr th:only-of-type {\n",
       "        vertical-align: middle;\n",
       "    }\n",
       "\n",
       "    .dataframe tbody tr th {\n",
       "        vertical-align: top;\n",
       "    }\n",
       "\n",
       "    .dataframe thead th {\n",
       "        text-align: right;\n",
       "    }\n",
       "</style>\n",
       "<table border=\"1\" class=\"dataframe\">\n",
       "  <thead>\n",
       "    <tr style=\"text-align: right;\">\n",
       "      <th></th>\n",
       "      <th>name</th>\n",
       "      <th>ext</th>\n",
       "      <th>size</th>\n",
       "      <th>type</th>\n",
       "    </tr>\n",
       "    <tr>\n",
       "      <th>station_id</th>\n",
       "      <th></th>\n",
       "      <th></th>\n",
       "      <th></th>\n",
       "      <th></th>\n",
       "    </tr>\n",
       "  </thead>\n",
       "  <tbody>\n",
       "    <tr>\n",
       "      <th>1</th>\n",
       "      <td>tageswerte_KL_00001_19370101_19860630_hist.zip</td>\n",
       "      <td>.zip</td>\n",
       "      <td>282024</td>\n",
       "      <td>-</td>\n",
       "    </tr>\n",
       "    <tr>\n",
       "      <th>3</th>\n",
       "      <td>tageswerte_KL_00003_18910101_20110331_hist.zip</td>\n",
       "      <td>.zip</td>\n",
       "      <td>887544</td>\n",
       "      <td>-</td>\n",
       "    </tr>\n",
       "    <tr>\n",
       "      <th>11</th>\n",
       "      <td>tageswerte_KL_00011_19800901_20181231_hist.zip</td>\n",
       "      <td>.zip</td>\n",
       "      <td>83682</td>\n",
       "      <td>-</td>\n",
       "    </tr>\n",
       "    <tr>\n",
       "      <th>44</th>\n",
       "      <td>tageswerte_KL_00044_19690101_20181231_hist.zip</td>\n",
       "      <td>.zip</td>\n",
       "      <td>416393</td>\n",
       "      <td>-</td>\n",
       "    </tr>\n",
       "    <tr>\n",
       "      <th>52</th>\n",
       "      <td>tageswerte_KL_00052_19690101_20011231_hist.zip</td>\n",
       "      <td>.zip</td>\n",
       "      <td>261747</td>\n",
       "      <td>-</td>\n",
       "    </tr>\n",
       "  </tbody>\n",
       "</table>\n",
       "</div>"
      ],
      "text/plain": [
       "                                                      name   ext    size type\n",
       "station_id                                                                   \n",
       "1           tageswerte_KL_00001_19370101_19860630_hist.zip  .zip  282024    -\n",
       "3           tageswerte_KL_00003_18910101_20110331_hist.zip  .zip  887544    -\n",
       "11          tageswerte_KL_00011_19800901_20181231_hist.zip  .zip   83682    -\n",
       "44          tageswerte_KL_00044_19690101_20181231_hist.zip  .zip  416393    -\n",
       "52          tageswerte_KL_00052_19690101_20011231_hist.zip  .zip  261747    -"
      ]
     },
     "execution_count": 78,
     "metadata": {},
     "output_type": "execute_result"
    }
   ],
   "source": [
    "df_zips = df_ftpdir[df_ftpdir[\"ext\"]==\".zip\"]\n",
    "df_zips.set_index(\"station_id\", inplace = True)\n",
    "df_zips.head()"
   ]
  },
  {
   "cell_type": "markdown",
   "metadata": {
    "colab_type": "text",
    "id": "KCTI3yorX-sC"
   },
   "source": [
    "### Download the Station Description File"
   ]
  },
  {
   "cell_type": "code",
   "execution_count": 79,
   "metadata": {
    "colab": {
     "base_uri": "https://localhost:8080/",
     "height": 34
    },
    "colab_type": "code",
    "id": "lqTNsSs7X-sD",
    "outputId": "fdc121a5-9e93-49ce-c3b6-0ee637cd3a2f"
   },
   "outputs": [
    {
     "name": "stdout",
     "output_type": "stream",
     "text": [
      "KL_Tageswerte_Beschreibung_Stationen.txt\n"
     ]
    }
   ],
   "source": [
    "station_fname = df_ftpdir[df_ftpdir['name'].str.contains(station_desc_pattern)][\"name\"].values[0]\n",
    "print(station_fname)"
   ]
  },
  {
   "cell_type": "code",
   "execution_count": 80,
   "metadata": {
    "colab": {
     "base_uri": "https://localhost:8080/",
     "height": 68
    },
    "colab_type": "code",
    "id": "jk0O33CyX-sI",
    "outputId": "d323edff-2ae6-4a2b-a93f-cd0f09440ee7"
   },
   "outputs": [
    {
     "name": "stdout",
     "output_type": "stream",
     "text": [
      "grabFile: \n",
      "From: /climate_environment/CDC/observations_germany/climate//daily/kl/historical/KL_Tageswerte_Beschreibung_Stationen.txt\n",
      "To:   data/original/DWD//daily/kl/historical/KL_Tageswerte_Beschreibung_Stationen.txt\n"
     ]
    }
   ],
   "source": [
    "print(\"grabFile: \")\n",
    "print(\"From: \" + ftp_dir + station_fname)\n",
    "print(\"To:   \" + local_ftp_station_dir + station_fname)\n",
    "grabFile(ftp_dir + station_fname, local_ftp_station_dir + station_fname)"
   ]
  },
  {
   "cell_type": "code",
   "execution_count": 81,
   "metadata": {
    "colab": {},
    "colab_type": "code",
    "id": "WD9gFMoDX-sM"
   },
   "outputs": [],
   "source": [
    "# extract column names. They are in German (de)\n",
    "# We have to use codecs because of difficulties with character encoding (German Umlaute)\n",
    "import codecs\n",
    "\n",
    "def station_desc_txt_to_csv(txtfile, csvfile):\n",
    "    file = codecs.open(txtfile,\"r\",\"utf-8\")\n",
    "    r = file.readline()\n",
    "    file.close()\n",
    "    colnames_de = r.split()\n",
    "    colnames_de\n",
    "    \n",
    "    translate = \\\n",
    "    {'Stations_id':'station_id',\n",
    "     'von_datum':'date_from',\n",
    "     'bis_datum':'date_to',\n",
    "     'Stationshoehe':'altitude',\n",
    "     'geoBreite': 'latitude',\n",
    "     'geoLaenge': 'longitude',\n",
    "     'Stationsname':'name',\n",
    "     'Bundesland':'state'}\n",
    "    \n",
    "    colnames_en = [translate[h] for h in colnames_de]\n",
    "    \n",
    "    # Skip the first two rows and set the column names.\n",
    "    df = pd.read_fwf(txtfile,skiprows=2,names=colnames_en, parse_dates=[\"date_from\",\"date_to\"],index_col = 0)\n",
    "    \n",
    "    # write csv\n",
    "    df.to_csv(csvfile, sep = \";\")\n",
    "    return(df)"
   ]
  },
  {
   "cell_type": "code",
   "execution_count": 82,
   "metadata": {
    "colab": {
     "base_uri": "https://localhost:8080/",
     "height": 235
    },
    "colab_type": "code",
    "id": "XlbeAh_7X-sQ",
    "outputId": "7cd5c5a0-b475-4ec8-eb4e-21d47d18775f",
    "scrolled": true
   },
   "outputs": [
    {
     "data": {
      "text/html": [
       "<div>\n",
       "<style scoped>\n",
       "    .dataframe tbody tr th:only-of-type {\n",
       "        vertical-align: middle;\n",
       "    }\n",
       "\n",
       "    .dataframe tbody tr th {\n",
       "        vertical-align: top;\n",
       "    }\n",
       "\n",
       "    .dataframe thead th {\n",
       "        text-align: right;\n",
       "    }\n",
       "</style>\n",
       "<table border=\"1\" class=\"dataframe\">\n",
       "  <thead>\n",
       "    <tr style=\"text-align: right;\">\n",
       "      <th></th>\n",
       "      <th>date_from</th>\n",
       "      <th>date_to</th>\n",
       "      <th>altitude</th>\n",
       "      <th>latitude</th>\n",
       "      <th>longitude</th>\n",
       "      <th>name</th>\n",
       "      <th>state</th>\n",
       "    </tr>\n",
       "    <tr>\n",
       "      <th>station_id</th>\n",
       "      <th></th>\n",
       "      <th></th>\n",
       "      <th></th>\n",
       "      <th></th>\n",
       "      <th></th>\n",
       "      <th></th>\n",
       "      <th></th>\n",
       "    </tr>\n",
       "  </thead>\n",
       "  <tbody>\n",
       "    <tr>\n",
       "      <th>1</th>\n",
       "      <td>1937-01-01</td>\n",
       "      <td>1986-06-30</td>\n",
       "      <td>478</td>\n",
       "      <td>47.8413</td>\n",
       "      <td>8.8493</td>\n",
       "      <td>Aach</td>\n",
       "      <td>Baden-Württemberg</td>\n",
       "    </tr>\n",
       "    <tr>\n",
       "      <th>3</th>\n",
       "      <td>1891-01-01</td>\n",
       "      <td>2011-03-31</td>\n",
       "      <td>202</td>\n",
       "      <td>50.7827</td>\n",
       "      <td>6.0941</td>\n",
       "      <td>Aachen</td>\n",
       "      <td>Nordrhein-Westfalen</td>\n",
       "    </tr>\n",
       "    <tr>\n",
       "      <th>11</th>\n",
       "      <td>1980-09-01</td>\n",
       "      <td>2020-03-01</td>\n",
       "      <td>680</td>\n",
       "      <td>47.9737</td>\n",
       "      <td>8.5205</td>\n",
       "      <td>Donaueschingen (Landeplatz)</td>\n",
       "      <td>Baden-Württemberg</td>\n",
       "    </tr>\n",
       "    <tr>\n",
       "      <th>44</th>\n",
       "      <td>1969-01-01</td>\n",
       "      <td>2020-03-01</td>\n",
       "      <td>44</td>\n",
       "      <td>52.9336</td>\n",
       "      <td>8.2370</td>\n",
       "      <td>Großenkneten</td>\n",
       "      <td>Niedersachsen</td>\n",
       "    </tr>\n",
       "    <tr>\n",
       "      <th>52</th>\n",
       "      <td>1969-01-01</td>\n",
       "      <td>2001-12-31</td>\n",
       "      <td>46</td>\n",
       "      <td>53.6623</td>\n",
       "      <td>10.1990</td>\n",
       "      <td>Ahrensburg-Wulfsdorf</td>\n",
       "      <td>Schleswig-Holstein</td>\n",
       "    </tr>\n",
       "  </tbody>\n",
       "</table>\n",
       "</div>"
      ],
      "text/plain": [
       "            date_from    date_to  altitude  latitude  longitude  \\\n",
       "station_id                                                        \n",
       "1          1937-01-01 1986-06-30       478   47.8413     8.8493   \n",
       "3          1891-01-01 2011-03-31       202   50.7827     6.0941   \n",
       "11         1980-09-01 2020-03-01       680   47.9737     8.5205   \n",
       "44         1969-01-01 2020-03-01        44   52.9336     8.2370   \n",
       "52         1969-01-01 2001-12-31        46   53.6623    10.1990   \n",
       "\n",
       "                                   name                state  \n",
       "station_id                                                    \n",
       "1                                  Aach    Baden-Württemberg  \n",
       "3                                Aachen  Nordrhein-Westfalen  \n",
       "11          Donaueschingen (Landeplatz)    Baden-Württemberg  \n",
       "44                         Großenkneten        Niedersachsen  \n",
       "52                 Ahrensburg-Wulfsdorf   Schleswig-Holstein  "
      ]
     },
     "execution_count": 82,
     "metadata": {},
     "output_type": "execute_result"
    }
   ],
   "source": [
    "basename = os.path.splitext(station_fname)[0]\n",
    "df_stations = station_desc_txt_to_csv(local_ftp_station_dir + station_fname, local_station_dir + basename + \".csv\")\n",
    "df_stations.head()"
   ]
  },
  {
   "cell_type": "markdown",
   "metadata": {
    "colab_type": "text",
    "id": "qEjbyj-IX-sV"
   },
   "source": [
    "### Select Stations Located in NRW from Station Description Dataframe"
   ]
  },
  {
   "cell_type": "code",
   "execution_count": 83,
   "metadata": {
    "colab": {
     "base_uri": "https://localhost:8080/",
     "height": 119
    },
    "colab_type": "code",
    "id": "Iiw6m_foX-sX",
    "outputId": "9500bbee-ad9d-43f7-cf30-c22ee413eefb"
   },
   "outputs": [
    {
     "data": {
      "text/plain": [
       "Int64Index([    3,    98,   186,   326,   386,   390,   553,   554,   555,\n",
       "              598,\n",
       "            ...\n",
       "            13696, 13700, 13713, 13901, 13952, 15000, 15120, 15190, 15200,\n",
       "            15963],\n",
       "           dtype='int64', name='station_id', length=112)"
      ]
     },
     "execution_count": 83,
     "metadata": {},
     "output_type": "execute_result"
    }
   ],
   "source": [
    "station_ids_selected = df_stations[df_stations['state'].str.contains(\"Nordrhein\")].index\n",
    "station_ids_selected"
   ]
  },
  {
   "cell_type": "code",
   "execution_count": 84,
   "metadata": {
    "colab": {
     "base_uri": "https://localhost:8080/",
     "height": 337
    },
    "colab_type": "code",
    "id": "YIt6-nttX-sc",
    "outputId": "894a3670-aa3d-410f-e8b4-c749ea153608"
   },
   "outputs": [
    {
     "data": {
      "text/html": [
       "<div>\n",
       "<style scoped>\n",
       "    .dataframe tbody tr th:only-of-type {\n",
       "        vertical-align: middle;\n",
       "    }\n",
       "\n",
       "    .dataframe tbody tr th {\n",
       "        vertical-align: top;\n",
       "    }\n",
       "\n",
       "    .dataframe thead th {\n",
       "        text-align: right;\n",
       "    }\n",
       "</style>\n",
       "<table border=\"1\" class=\"dataframe\">\n",
       "  <thead>\n",
       "    <tr style=\"text-align: right;\">\n",
       "      <th></th>\n",
       "      <th>date_from</th>\n",
       "      <th>date_to</th>\n",
       "      <th>altitude</th>\n",
       "      <th>latitude</th>\n",
       "      <th>longitude</th>\n",
       "      <th>name</th>\n",
       "      <th>state</th>\n",
       "    </tr>\n",
       "    <tr>\n",
       "      <th>station_id</th>\n",
       "      <th></th>\n",
       "      <th></th>\n",
       "      <th></th>\n",
       "      <th></th>\n",
       "      <th></th>\n",
       "      <th></th>\n",
       "      <th></th>\n",
       "    </tr>\n",
       "  </thead>\n",
       "  <tbody>\n",
       "    <tr>\n",
       "      <th>15190</th>\n",
       "      <td>2018-07-01</td>\n",
       "      <td>2020-03-01</td>\n",
       "      <td>18</td>\n",
       "      <td>51.6802</td>\n",
       "      <td>6.4349</td>\n",
       "      <td>Xanten (Wasserwerk)</td>\n",
       "      <td>Nordrhein-Westfalen</td>\n",
       "    </tr>\n",
       "  </tbody>\n",
       "</table>\n",
       "</div>"
      ],
      "text/plain": [
       "            date_from    date_to  altitude  latitude  longitude  \\\n",
       "station_id                                                        \n",
       "15190      2018-07-01 2020-03-01        18   51.6802     6.4349   \n",
       "\n",
       "                           name                state  \n",
       "station_id                                            \n",
       "15190       Xanten (Wasserwerk)  Nordrhein-Westfalen  "
      ]
     },
     "execution_count": 84,
     "metadata": {},
     "output_type": "execute_result"
    }
   ],
   "source": [
    "# Create variable with TRUE if state is Nordrhein-Westfalen\n",
    "isNRW = df_stations['state'] == \"Nordrhein-Westfalen\"\n",
    "\n",
    "# Create variable with TRUE if date_to is latest date (indicates operation up to now)\n",
    "isOperational = df_stations['date_to'] == df_stations.date_to.max() \n",
    "\n",
    "# df_stations.get_value()\n",
    "xanten= df_stations['name'] == \"Xanten (Wasserwerk)\"\n",
    "dfNRW = df_stations[xanten]\n",
    "dfNRW.head()"
   ]
  },
  {
   "cell_type": "markdown",
   "metadata": {},
   "source": [
    "### As Xaten station doesn't have temperature data, search for station near by"
   ]
  },
  {
   "cell_type": "code",
   "execution_count": 85,
   "metadata": {},
   "outputs": [
    {
     "data": {
      "text/html": [
       "<div>\n",
       "<style scoped>\n",
       "    .dataframe tbody tr th:only-of-type {\n",
       "        vertical-align: middle;\n",
       "    }\n",
       "\n",
       "    .dataframe tbody tr th {\n",
       "        vertical-align: top;\n",
       "    }\n",
       "\n",
       "    .dataframe thead th {\n",
       "        text-align: right;\n",
       "    }\n",
       "</style>\n",
       "<table border=\"1\" class=\"dataframe\">\n",
       "  <thead>\n",
       "    <tr style=\"text-align: right;\">\n",
       "      <th></th>\n",
       "      <th>date_from</th>\n",
       "      <th>date_to</th>\n",
       "      <th>altitude</th>\n",
       "      <th>latitude</th>\n",
       "      <th>longitude</th>\n",
       "      <th>name</th>\n",
       "      <th>state</th>\n",
       "    </tr>\n",
       "    <tr>\n",
       "      <th>station_id</th>\n",
       "      <th></th>\n",
       "      <th></th>\n",
       "      <th></th>\n",
       "      <th></th>\n",
       "      <th></th>\n",
       "      <th></th>\n",
       "      <th></th>\n",
       "    </tr>\n",
       "  </thead>\n",
       "  <tbody>\n",
       "    <tr>\n",
       "      <th>617</th>\n",
       "      <td>2004-06-01</td>\n",
       "      <td>2020-03-01</td>\n",
       "      <td>47</td>\n",
       "      <td>51.8730</td>\n",
       "      <td>6.8863</td>\n",
       "      <td>Borken in Westfalen</td>\n",
       "      <td>Nordrhein-Westfalen</td>\n",
       "    </tr>\n",
       "    <tr>\n",
       "      <th>1078</th>\n",
       "      <td>1952-01-01</td>\n",
       "      <td>2020-03-01</td>\n",
       "      <td>37</td>\n",
       "      <td>51.2960</td>\n",
       "      <td>6.7686</td>\n",
       "      <td>Düsseldorf</td>\n",
       "      <td>Nordrhein-Westfalen</td>\n",
       "    </tr>\n",
       "    <tr>\n",
       "      <th>1590</th>\n",
       "      <td>1963-10-01</td>\n",
       "      <td>2020-03-01</td>\n",
       "      <td>37</td>\n",
       "      <td>51.4942</td>\n",
       "      <td>6.2463</td>\n",
       "      <td>Geldern-Walbeck</td>\n",
       "      <td>Nordrhein-Westfalen</td>\n",
       "    </tr>\n",
       "    <tr>\n",
       "      <th>2629</th>\n",
       "      <td>1947-11-11</td>\n",
       "      <td>2020-03-01</td>\n",
       "      <td>46</td>\n",
       "      <td>51.7612</td>\n",
       "      <td>6.0954</td>\n",
       "      <td>Kleve</td>\n",
       "      <td>Nordrhein-Westfalen</td>\n",
       "    </tr>\n",
       "    <tr>\n",
       "      <th>5064</th>\n",
       "      <td>2004-12-01</td>\n",
       "      <td>2020-03-01</td>\n",
       "      <td>37</td>\n",
       "      <td>51.2897</td>\n",
       "      <td>6.4437</td>\n",
       "      <td>Tönisvorst</td>\n",
       "      <td>Nordrhein-Westfalen</td>\n",
       "    </tr>\n",
       "  </tbody>\n",
       "</table>\n",
       "</div>"
      ],
      "text/plain": [
       "            date_from    date_to  altitude  latitude  longitude  \\\n",
       "station_id                                                        \n",
       "617        2004-06-01 2020-03-01        47   51.8730     6.8863   \n",
       "1078       1952-01-01 2020-03-01        37   51.2960     6.7686   \n",
       "1590       1963-10-01 2020-03-01        37   51.4942     6.2463   \n",
       "2629       1947-11-11 2020-03-01        46   51.7612     6.0954   \n",
       "5064       2004-12-01 2020-03-01        37   51.2897     6.4437   \n",
       "\n",
       "                           name                state  \n",
       "station_id                                            \n",
       "617         Borken in Westfalen  Nordrhein-Westfalen  \n",
       "1078                 Düsseldorf  Nordrhein-Westfalen  \n",
       "1590            Geldern-Walbeck  Nordrhein-Westfalen  \n",
       "2629                      Kleve  Nordrhein-Westfalen  \n",
       "5064                 Tönisvorst  Nordrhein-Westfalen  "
      ]
     },
     "execution_count": 85,
     "metadata": {},
     "output_type": "execute_result"
    }
   ],
   "source": [
    "lat=dfNRW['latitude']\n",
    "lat_all=df_stations['latitude']\n",
    "\n",
    "isLatCovered = (df_stations['latitude'] < dfNRW.iloc[0]['latitude'] + 0.5)&(df_stations['latitude'] > dfNRW.iloc[0]['latitude'] - 0.5)\n",
    "isLongCovered = (df_stations['longitude'] < dfNRW.iloc[0]['longitude'] + 0.5)&(df_stations['longitude'] > dfNRW.iloc[0]['longitude'] - 0.5)\n",
    "\n",
    "dateFilter=(df_stations['date_from']<='2015')&(df_stations['date_to']>='2018')\n",
    "# df_stations['latitude'] > dfNRW.iloc[0]['latitude']\n",
    "    #latValue=df_stations['latitude']\n",
    "# isBefore1950 = df_stations['date_from'] < '1950'\n",
    "\n",
    "# select on both conditions\n",
    "dfNRW = df_stations[isNRW & isLatCovered&isLongCovered&dateFilter] \n",
    "#print(\"Number of stations in NRW: \\n\", dfNRW.count())\n",
    "\n",
    "dfNRW.head()"
   ]
  },
  {
   "cell_type": "code",
   "execution_count": 86,
   "metadata": {
    "colab": {
     "base_uri": "https://localhost:8080/",
     "height": 272
    },
    "colab_type": "code",
    "id": "tVkOFS93X-sg",
    "outputId": "04990a4f-8a9e-4aab-babe-07f28448444c"
   },
   "outputs": [
    {
     "name": "stdout",
     "output_type": "stream",
     "text": [
      "                                                      name   ext    size type\n",
      "station_id                                                                   \n",
      "1           tageswerte_KL_00001_19370101_19860630_hist.zip  .zip  282024    -\n",
      "3           tageswerte_KL_00003_18910101_20110331_hist.zip  .zip  887544    -\n",
      "11          tageswerte_KL_00011_19800901_20181231_hist.zip  .zip   83682    -\n",
      "44          tageswerte_KL_00044_19690101_20181231_hist.zip  .zip  416393    -\n",
      "52          tageswerte_KL_00052_19690101_20011231_hist.zip  .zip  261747    -\n"
     ]
    }
   ],
   "source": [
    "print(df_zips.head())"
   ]
  },
  {
   "cell_type": "markdown",
   "metadata": {
    "colab_type": "text",
    "id": "Z5yYbh3tX-sk"
   },
   "source": [
    "### Download TS Data from FTP Server\n",
    "\n",
    "Problem: Not all stations listed in the station description file are associated with a time series (zip file)! The stations in the description file and the set of stations whoch are TS data provided for (zip files) do not match perfectly.  "
   ]
  },
  {
   "cell_type": "code",
   "execution_count": 87,
   "metadata": {
    "colab": {
     "base_uri": "https://localhost:8080/",
     "height": 34
    },
    "colab_type": "code",
    "id": "t9o71cjfX-sl",
    "outputId": "538670d2-3dd8-4aae-daea-5c7fd4bd3161"
   },
   "outputs": [
    {
     "data": {
      "text/plain": [
       "[617, 1078, 1590, 2629, 5064, 13670]"
      ]
     },
     "execution_count": 87,
     "metadata": {},
     "output_type": "execute_result"
    }
   ],
   "source": [
    "list(dfNRW.index)"
   ]
  },
  {
   "cell_type": "code",
   "execution_count": 88,
   "metadata": {
    "colab": {
     "base_uri": "https://localhost:8080/",
     "height": 119
    },
    "colab_type": "code",
    "id": "G6wCMFVpX-sp",
    "outputId": "91047395-5efa-48c8-8685-6a95e9447369"
   },
   "outputs": [
    {
     "name": "stdout",
     "output_type": "stream",
     "text": [
      "tageswerte_KL_00617_20040601_20181231_hist.zip\n",
      "tageswerte_KL_01078_19520101_20181231_hist.zip\n",
      "tageswerte_KL_01590_19631001_20181231_hist.zip\n",
      "tageswerte_KL_02629_19471111_20181231_hist.zip\n",
      "tageswerte_KL_05064_20041201_20181231_hist.zip\n",
      "tageswerte_KL_13670_20070531_20181231_hist.zip\n"
     ]
    }
   ],
   "source": [
    "# Add the names of the zip files only to a list. \n",
    "local_zip_list = []\n",
    "\n",
    "station_ids_selected = list(dfNRW.index)\n",
    "\n",
    "for station_id in station_ids_selected:\n",
    "    try:\n",
    "        fname = df_zips[\"name\"][station_id]\n",
    "        print(fname)\n",
    "        grabFile(ftp_dir + fname, local_ftp_ts_dir + fname)\n",
    "        local_zip_list.append(fname)\n",
    "    except:\n",
    "        print(\"WARNING: TS file for key %d not found in FTP directory.\" % station_id)"
   ]
  },
  {
   "cell_type": "markdown",
   "metadata": {
    "colab_type": "text",
    "id": "OBogrfe5X-st"
   },
   "source": [
    "### Join (Merge) the Time Series Columns\n",
    "\n",
    "https://medium.com/@chaimgluck1/working-with-pandas-fixing-messy-column-names-42a54a6659cd\n"
   ]
  },
  {
   "cell_type": "code",
   "execution_count": 89,
   "metadata": {
    "colab": {},
    "colab_type": "code",
    "id": "2oukcu5OX-sv"
   },
   "outputs": [],
   "source": [
    "def temp_ts_to_df(fname):\n",
    "    \n",
    "    dateparse = lambda dates: [pd.datetime.strptime(str(d), '%Y%m%d') for d in dates]\n",
    "\n",
    "    df = pd.read_csv(fname, delimiter=\";\", encoding=\"utf8\", index_col=\"MESS_DATUM\", parse_dates = [\"MESS_DATUM\"], date_parser = dateparse, na_values = [-999.0, -999])\n",
    "\n",
    "    #df = pd.read_csv(fname, delimiter=\";\", encoding=\"iso8859_2\",\\\n",
    "    #             index_col=\"MESS_DATUM\", parse_dates = [\"MESS_DATUM\"], date_parser = dateparse)\n",
    "    \n",
    "    # https://medium.com/@chaimgluck1/working-with-pandas-fixing-messy-column-names-42a54a6659cd\n",
    "\n",
    "    # Column headers: remove leading blanks (strip), replace \" \" with \"_\", and convert to lower case.\n",
    "    df.columns = df.columns.str.strip().str.lower().str.replace(' ', '_').str.replace('(', '').str.replace(')', '')\n",
    "    df.index.name = df.index.name.strip().lower().replace(' ', '_').replace('(', '').replace(')', '')\n",
    "    return(df)"
   ]
  },
  {
   "cell_type": "code",
   "execution_count": 90,
   "metadata": {
    "colab": {},
    "colab_type": "code",
    "id": "5d3pM8qvX-sy"
   },
   "outputs": [],
   "source": [
    "from zipfile import ZipFile"
   ]
  },
  {
   "cell_type": "code",
   "execution_count": 91,
   "metadata": {
    "colab": {},
    "colab_type": "code",
    "id": "moAT5HRqX-s4"
   },
   "outputs": [],
   "source": [
    "def temp_ts_merge():\n",
    "    # Very compact code.\n",
    "    df = pd.DataFrame()\n",
    "    for elt in local_zip_list:\n",
    "        ffname = local_ftp_ts_dir + elt\n",
    "        print(\"Zip archive: \" + ffname)\n",
    "        with ZipFile(ffname) as myzip:\n",
    "            # read the time series data from the file starting with \"produkt\"\n",
    "            prodfilename = [elt for elt in myzip.namelist() if elt.split(\"_\")[0]==\"produkt\"][0] \n",
    "            print(\"Extract product file: %s\" % prodfilename)\n",
    "            print()\n",
    "            with myzip.open(prodfilename) as myfile:\n",
    "                dftmp = temp_ts_to_df(myfile)\n",
    "                s = dftmp[\"tmk\"].rename(dftmp[\"stations_id\"][0]).to_frame()\n",
    "                # outer merge.\n",
    "                df = pd.merge(df, s, left_index=True, right_index=True, how='outer')\n",
    "\n",
    "#     df.index.names = [\"year\"]\n",
    "    df.index.rename(name = \"time\", inplace = True)\n",
    "    return(df)"
   ]
  },
  {
   "cell_type": "code",
   "execution_count": 92,
   "metadata": {
    "colab": {
     "base_uri": "https://localhost:8080/",
     "height": 442
    },
    "colab_type": "code",
    "id": "-jnM73AKX-s-",
    "outputId": "c1f8c46a-fd7a-48da-dc9b-550c850ba693",
    "scrolled": false
   },
   "outputs": [
    {
     "name": "stdout",
     "output_type": "stream",
     "text": [
      "Zip archive: data/original/DWD//daily/kl/historical/tageswerte_KL_00617_20040601_20181231_hist.zip\n",
      "Extract product file: produkt_klima_tag_20040601_20181231_00617.txt\n",
      "\n",
      "Zip archive: data/original/DWD//daily/kl/historical/tageswerte_KL_01078_19520101_20181231_hist.zip\n",
      "Extract product file: produkt_klima_tag_19520101_20181231_01078.txt\n",
      "\n",
      "Zip archive: data/original/DWD//daily/kl/historical/tageswerte_KL_01590_19631001_20181231_hist.zip\n",
      "Extract product file: produkt_klima_tag_19631001_20181231_01590.txt\n",
      "\n",
      "Zip archive: data/original/DWD//daily/kl/historical/tageswerte_KL_02629_19471111_20181231_hist.zip\n",
      "Extract product file: produkt_klima_tag_19471111_20181231_02629.txt\n",
      "\n",
      "Zip archive: data/original/DWD//daily/kl/historical/tageswerte_KL_05064_20041201_20181231_hist.zip\n",
      "Extract product file: produkt_klima_tag_20041201_20181231_05064.txt\n",
      "\n",
      "Zip archive: data/original/DWD//daily/kl/historical/tageswerte_KL_13670_20070531_20181231_hist.zip\n",
      "Extract product file: produkt_klima_tag_20070531_20181231_13670.txt\n",
      "\n",
      "            617    1078   1590   2629   5064   13670\n",
      "time                                                \n",
      "1947-11-11    NaN    NaN    NaN   10.6    NaN    NaN\n",
      "1947-11-12    NaN    NaN    NaN   12.6    NaN    NaN\n",
      "1947-11-13    NaN    NaN    NaN    8.1    NaN    NaN\n",
      "1947-11-14    NaN    NaN    NaN    6.7    NaN    NaN\n",
      "1947-11-15    NaN    NaN    NaN    4.8    NaN    NaN\n"
     ]
    }
   ],
   "source": [
    "df_merged_ts = temp_ts_merge()\n",
    "print(df_merged_ts.head())"
   ]
  },
  {
   "cell_type": "code",
   "execution_count": 93,
   "metadata": {
    "colab": {},
    "colab_type": "code",
    "id": "HWYohCtpX-tD",
    "scrolled": true
   },
   "outputs": [],
   "source": [
    "i = 0\n",
    "df_selectedDateRange = pd.DataFrame()\n",
    "if df_merged_ts.index.dtype != \"int64\":\n",
    "    try:\n",
    "        df_merged_ts.reset_index(level=0, inplace=True)\n",
    "    except:\n",
    "        df_merged_ts.reset_index(drop=True)\n",
    "\n"
   ]
  },
  {
   "cell_type": "markdown",
   "metadata": {
    "colab_type": "text",
    "id": "VKD3EiDYpc6J"
   },
   "source": [
    "add average temperature"
   ]
  },
  {
   "cell_type": "code",
   "execution_count": 94,
   "metadata": {
    "colab": {},
    "colab_type": "code",
    "id": "IKpDfTmLYwD8"
   },
   "outputs": [],
   "source": [
    "df_merged_ts.head()\n",
    "df_merged_ts['avgTemp']= df_merged_ts.iloc[:,1:].mean(axis=1)\n"
   ]
  },
  {
   "cell_type": "markdown",
   "metadata": {
    "colab_type": "text",
    "id": "rVQIbAEFY9Lf"
   },
   "source": [
    "The days selected are \n",
    "(a) 2016-05-08 (c) 2017-05-26 (e) 2018-05-11"
   ]
  },
  {
   "cell_type": "code",
   "execution_count": 95,
   "metadata": {
    "colab": {},
    "colab_type": "code",
    "id": "CFn9NY-kYrf8"
   },
   "outputs": [],
   "source": [
    "date_a = pd.Timestamp(2016,5,8)\n",
    "date_c = pd.Timestamp(2017,5,26)\n",
    "date_e = pd.Timestamp(2018,5,11)"
   ]
  },
  {
   "cell_type": "code",
   "execution_count": 96,
   "metadata": {
    "colab": {},
    "colab_type": "code",
    "id": "gXGzAelUfBaF"
   },
   "outputs": [],
   "source": [
    "def subtract_years(d, years_to_subtract):\n",
    "  return d - pd.DateOffset(years = 1)"
   ]
  },
  {
   "cell_type": "code",
   "execution_count": 97,
   "metadata": {
    "colab": {},
    "colab_type": "code",
    "id": "H4d-9D9Ybt97"
   },
   "outputs": [],
   "source": [
    "df_date_a = df_merged_ts[(df_merged_ts['time']<=date_a) & (df_merged_ts['time'] > subtract_years(date_a,1))]\n",
    "df_date_c = df_merged_ts[(df_merged_ts['time']<=date_c) & (df_merged_ts['time'] > subtract_years(date_c,1))]\n",
    "df_date_e = df_merged_ts[(df_merged_ts['time']<=date_e) & (df_merged_ts['time'] > subtract_years(date_e,1))]"
   ]
  },
  {
   "cell_type": "markdown",
   "metadata": {
    "colab_type": "text",
    "id": "ghf7-u0Cja4Z"
   },
   "source": [
    "Plot avg temperature for 3 date range\n"
   ]
  },
  {
   "cell_type": "code",
   "execution_count": 98,
   "metadata": {
    "colab": {},
    "colab_type": "code",
    "id": "_VWtAtP5X-tn"
   },
   "outputs": [],
   "source": [
    "%matplotlib inline"
   ]
  },
  {
   "cell_type": "code",
   "execution_count": 99,
   "metadata": {
    "colab": {},
    "colab_type": "code",
    "id": "b9DxSunlX-tq"
   },
   "outputs": [],
   "source": [
    "import matplotlib.pyplot as plt"
   ]
  },
  {
   "cell_type": "code",
   "execution_count": 100,
   "metadata": {
    "colab": {
     "base_uri": "https://localhost:8080/",
     "height": 1000
    },
    "colab_type": "code",
    "id": "iL2f-lB_X-tt",
    "outputId": "9a90b8dc-3e24-4f54-ec27-4994d2a5cfb2",
    "scrolled": true
   },
   "outputs": [
    {
     "data": {
      "image/png": "[encoded data removed]",
      "text/plain": [
       "<Figure size 1800x720 with 1 Axes>"
      ]
     },
     "metadata": {},
     "output_type": "display_data"
    },
    {
     "data": {
      "image/png": "[encoded data removed]",
      "text/plain": [
       "<Figure size 1800x720 with 1 Axes>"
      ]
     },
     "metadata": {},
     "output_type": "display_data"
    },
    {
     "data": {
      "image/png": "[encoded data removed]",
      "text/plain": [
       "<Figure size 1800x720 with 1 Axes>"
      ]
     },
     "metadata": {},
     "output_type": "display_data"
    }
   ],
   "source": [
    "#The days selected are (a) 2016-05-08 (c) 2017-05-26 (e) 2018-05-11\n",
    "# line plot for avg tempertaure vs time form 2015-05-09 to 2016-05-08\n",
    "df_date_a.plot(kind='line',x='time',y='avgTemp',color='green', linewidth = 2,figsize=(25, 10))\n",
    "plt.xlabel('one-year-period upto 2016-05-08', fontsize=20)\n",
    "plt.ylabel('Average Temperature($^\\circ$C)', fontsize=20)\n",
    "plt.xticks(fontsize=20)\n",
    "plt.yticks(fontsize=20)\n",
    "plt.tick_params(axis='both', which='minor', labelsize=20)\n",
    "\n",
    "\n",
    "\n",
    "# line plot for avg tempertaure vs time form 2016-05-27 to 2017-05-26\n",
    "df_date_c.plot(kind='line',x='time',y='avgTemp',color='red', linewidth = 2,figsize=(25, 10))\n",
    "plt.xlabel('one-year-period upto 2017-05-26', fontsize=20)\n",
    "plt.ylabel('Average Temperature($^\\circ$C)', fontsize=20)\n",
    "plt.xticks(fontsize=20)\n",
    "plt.yticks(fontsize=20)\n",
    "plt.tick_params(axis='both', which='minor', labelsize=20)\n",
    "\n",
    "\n",
    "\n",
    "# line plot for avg tempertaure vs time form 2018-05-12 to 2018-05-11\n",
    "df_date_e.plot(kind='line',x='time',y='avgTemp',color='blue', linewidth = 2,figsize=(25, 10))\n",
    "plt.xlabel('one-year-period upto 2018-05-11', fontsize=20)\n",
    "plt.ylabel('Average Temperature($^\\circ$C)', fontsize=20)\n",
    "plt.xticks(fontsize=20)\n",
    "plt.yticks(fontsize=20)\n",
    "plt.tick_params(axis='both', which='minor', labelsize=20)\n"
   ]
  },
  {
   "cell_type": "markdown",
   "metadata": {
    "colab_type": "text",
    "id": "DpR8uG-dwvgR"
   },
   "source": [
    "### **Find avg temperature for 3 years**\n",
    "\n"
   ]
  },
  {
   "cell_type": "code",
   "execution_count": 101,
   "metadata": {
    "colab": {
     "base_uri": "https://localhost:8080/",
     "height": 1000
    },
    "colab_type": "code",
    "id": "YFEkJXAEX-t6",
    "outputId": "9c71183c-89ca-4e7c-97df-fe28f7f08da7"
   },
   "outputs": [
    {
     "name": "stdout",
     "output_type": "stream",
     "text": [
      "The average temperature are:\n",
      "[11.220218579234976, 11.019726027397253, 11.410356164383554]\n"
     ]
    },
    {
     "data": {
      "image/png": "[encoded data removed]",
      "text/plain": [
       "<Figure size 720x720 with 1 Axes>"
      ]
     },
     "metadata": {},
     "output_type": "display_data"
    },
    {
     "data": {
      "image/png": "[encoded data removed]",
      "text/plain": [
       "<Figure size 720x720 with 1 Axes>"
      ]
     },
     "metadata": {},
     "output_type": "display_data"
    }
   ],
   "source": [
    "#The days selected are (a) 2016-05-08 (c) 2017-05-26 (e) 2018-05-11\n",
    "#Displaying average temperature values for month of May and June in the year 2016, 2017, 2018 for 3 dataframe\n",
    "\n",
    "sensing_date = ['till 2016-05-08', 'till 2017-05-26', 'till 2018-05-11']\n",
    "avgTemp = [df_date_a['avgTemp'].mean(), df_date_c['avgTemp'].mean(), df_date_e['avgTemp'].mean()]\n",
    "print('The average temperature are:')\n",
    "print(avgTemp)\n",
    "\n",
    "#Bar plot\n",
    "plt.figure(figsize=(10,10))\n",
    "plt.bar(sensing_date, avgTemp, color='green', align='center', alpha=0.5) \n",
    "axes = plt.gca()\n",
    "axes.set_ylim([10.5,12])\n",
    "plt.xlabel('one-year-period before and up to the sensing dates')\n",
    "plt.ylabel('Average Temperature($^\\circ$C)')\n",
    "plt.show()\n",
    "\n",
    "#Line graph\n",
    "plt.figure(figsize=(10,10))\n",
    "plt.plot(sensing_date, avgTemp, color='blue',linestyle='dashed', linewidth = 3, marker='o', markerfacecolor='red', markersize=8)\n",
    "axes = plt.gca()\n",
    "axes.set_ylim([10.5,12])\n",
    "plt.xlabel('one-year-period before and up to the sensing dates')\n",
    "plt.ylabel('Average Temperature($^\\circ$C)')\n",
    "plt.show()"
   ]
  },
  {
   "cell_type": "markdown",
   "metadata": {
    "colab_type": "text",
    "id": "yEPK0W6PEThp"
   },
   "source": [
    "## save data"
   ]
  },
  {
   "cell_type": "code",
   "execution_count": 102,
   "metadata": {
    "colab": {
     "base_uri": "https://localhost:8080/",
     "height": 34
    },
    "colab_type": "code",
    "id": "jrZe_3orqCEX",
    "outputId": "313a4e99-f62a-4ae9-e821-1f12b6383ad7"
   },
   "outputs": [
    {
     "data": {
      "text/plain": [
       "(1096, 8)"
      ]
     },
     "execution_count": 102,
     "metadata": {},
     "output_type": "execute_result"
    }
   ],
   "source": [
    "df_all_date = df_date_a.append(df_date_c)\n",
    "df_all_date = df_all_date.append(df_date_e)\n",
    "df_all_date.to_csv('average_temperature.csv',index = True)\n",
    "df_all_date.shape"
   ]
  },
  {
   "cell_type": "markdown",
   "metadata": {
    "colab_type": "text",
    "id": "wD3vojzNPAOt"
   },
   "source": [
    "Heat map data\n"
   ]
  },
  {
   "cell_type": "code",
   "execution_count": 103,
   "metadata": {
    "colab": {
     "base_uri": "https://localhost:8080/",
     "height": 34
    },
    "colab_type": "code",
    "id": "Or566Vm7OazO",
    "outputId": "4c48221e-45ec-4fc7-fdc1-7c4eec109d8c"
   },
   "outputs": [
    {
     "data": {
      "text/plain": [
       "(1081, 8)"
      ]
     },
     "execution_count": 103,
     "metadata": {},
     "output_type": "execute_result"
    }
   ],
   "source": [
    "df_all_date.drop_duplicates(keep='first',inplace=True)\n",
    "df_all_date.shape"
   ]
  },
  {
   "cell_type": "code",
   "execution_count": 104,
   "metadata": {
    "colab": {
     "base_uri": "https://localhost:8080/",
     "height": 204
    },
    "colab_type": "code",
    "id": "w9LP67XdPF8v",
    "outputId": "2be5790e-a4be-44fa-d4d3-188b690c3d7e"
   },
   "outputs": [
    {
     "data": {
      "text/html": [
       "<div>\n",
       "<style scoped>\n",
       "    .dataframe tbody tr th:only-of-type {\n",
       "        vertical-align: middle;\n",
       "    }\n",
       "\n",
       "    .dataframe tbody tr th {\n",
       "        vertical-align: top;\n",
       "    }\n",
       "\n",
       "    .dataframe thead th {\n",
       "        text-align: right;\n",
       "    }\n",
       "</style>\n",
       "<table border=\"1\" class=\"dataframe\">\n",
       "  <thead>\n",
       "    <tr style=\"text-align: right;\">\n",
       "      <th></th>\n",
       "      <th>time</th>\n",
       "      <th>617</th>\n",
       "      <th>1078</th>\n",
       "      <th>1590</th>\n",
       "      <th>2629</th>\n",
       "      <th>5064</th>\n",
       "      <th>13670</th>\n",
       "      <th>avgTemp</th>\n",
       "    </tr>\n",
       "  </thead>\n",
       "  <tbody>\n",
       "    <tr>\n",
       "      <th>24651</th>\n",
       "      <td>2015-05-09</td>\n",
       "      <td>14.4</td>\n",
       "      <td>15.8</td>\n",
       "      <td>15.1</td>\n",
       "      <td>13.9</td>\n",
       "      <td>15.6</td>\n",
       "      <td>15.3</td>\n",
       "      <td>15.016667</td>\n",
       "    </tr>\n",
       "    <tr>\n",
       "      <th>24652</th>\n",
       "      <td>2015-05-10</td>\n",
       "      <td>13.0</td>\n",
       "      <td>14.3</td>\n",
       "      <td>14.4</td>\n",
       "      <td>13.2</td>\n",
       "      <td>14.3</td>\n",
       "      <td>13.9</td>\n",
       "      <td>13.850000</td>\n",
       "    </tr>\n",
       "    <tr>\n",
       "      <th>24653</th>\n",
       "      <td>2015-05-11</td>\n",
       "      <td>18.1</td>\n",
       "      <td>18.7</td>\n",
       "      <td>19.2</td>\n",
       "      <td>18.2</td>\n",
       "      <td>18.8</td>\n",
       "      <td>19.3</td>\n",
       "      <td>18.716667</td>\n",
       "    </tr>\n",
       "    <tr>\n",
       "      <th>24654</th>\n",
       "      <td>2015-05-12</td>\n",
       "      <td>15.6</td>\n",
       "      <td>17.4</td>\n",
       "      <td>16.3</td>\n",
       "      <td>15.1</td>\n",
       "      <td>16.4</td>\n",
       "      <td>16.5</td>\n",
       "      <td>16.216667</td>\n",
       "    </tr>\n",
       "    <tr>\n",
       "      <th>24655</th>\n",
       "      <td>2015-05-13</td>\n",
       "      <td>13.1</td>\n",
       "      <td>13.6</td>\n",
       "      <td>13.8</td>\n",
       "      <td>12.6</td>\n",
       "      <td>13.8</td>\n",
       "      <td>13.7</td>\n",
       "      <td>13.433333</td>\n",
       "    </tr>\n",
       "  </tbody>\n",
       "</table>\n",
       "</div>"
      ],
      "text/plain": [
       "            time   617  1078  1590  2629  5064  13670    avgTemp\n",
       "24651 2015-05-09  14.4  15.8  15.1  13.9  15.6   15.3  15.016667\n",
       "24652 2015-05-10  13.0  14.3  14.4  13.2  14.3   13.9  13.850000\n",
       "24653 2015-05-11  18.1  18.7  19.2  18.2  18.8   19.3  18.716667\n",
       "24654 2015-05-12  15.6  17.4  16.3  15.1  16.4   16.5  16.216667\n",
       "24655 2015-05-13  13.1  13.6  13.8  12.6  13.8   13.7  13.433333"
      ]
     },
     "execution_count": 104,
     "metadata": {},
     "output_type": "execute_result"
    }
   ],
   "source": [
    "df_all_date.head()"
   ]
  },
  {
   "cell_type": "code",
   "execution_count": 105,
   "metadata": {
    "colab": {},
    "colab_type": "code",
    "id": "leIiLss0S_xM"
   },
   "outputs": [],
   "source": [
    "station_ids = df_all_date.columns.drop(['time','avgTemp']).tolist()"
   ]
  },
  {
   "cell_type": "code",
   "execution_count": 106,
   "metadata": {
    "colab": {
     "base_uri": "https://localhost:8080/",
     "height": 204
    },
    "colab_type": "code",
    "id": "GWSH28kaUI0d",
    "outputId": "527c2635-ae46-469f-c548-362283d9e88b"
   },
   "outputs": [
    {
     "data": {
      "text/html": [
       "<div>\n",
       "<style scoped>\n",
       "    .dataframe tbody tr th:only-of-type {\n",
       "        vertical-align: middle;\n",
       "    }\n",
       "\n",
       "    .dataframe tbody tr th {\n",
       "        vertical-align: top;\n",
       "    }\n",
       "\n",
       "    .dataframe thead th {\n",
       "        text-align: right;\n",
       "    }\n",
       "</style>\n",
       "<table border=\"1\" class=\"dataframe\">\n",
       "  <thead>\n",
       "    <tr style=\"text-align: right;\">\n",
       "      <th></th>\n",
       "      <th>time</th>\n",
       "      <th>latitude</th>\n",
       "      <th>longitude</th>\n",
       "      <th>temp</th>\n",
       "    </tr>\n",
       "  </thead>\n",
       "  <tbody>\n",
       "    <tr>\n",
       "      <th>24651</th>\n",
       "      <td>2015-05-09</td>\n",
       "      <td>51.873</td>\n",
       "      <td>6.8863</td>\n",
       "      <td>14.4</td>\n",
       "    </tr>\n",
       "    <tr>\n",
       "      <th>24652</th>\n",
       "      <td>2015-05-10</td>\n",
       "      <td>51.873</td>\n",
       "      <td>6.8863</td>\n",
       "      <td>13.0</td>\n",
       "    </tr>\n",
       "    <tr>\n",
       "      <th>24653</th>\n",
       "      <td>2015-05-11</td>\n",
       "      <td>51.873</td>\n",
       "      <td>6.8863</td>\n",
       "      <td>18.1</td>\n",
       "    </tr>\n",
       "    <tr>\n",
       "      <th>24654</th>\n",
       "      <td>2015-05-12</td>\n",
       "      <td>51.873</td>\n",
       "      <td>6.8863</td>\n",
       "      <td>15.6</td>\n",
       "    </tr>\n",
       "    <tr>\n",
       "      <th>24655</th>\n",
       "      <td>2015-05-13</td>\n",
       "      <td>51.873</td>\n",
       "      <td>6.8863</td>\n",
       "      <td>13.1</td>\n",
       "    </tr>\n",
       "  </tbody>\n",
       "</table>\n",
       "</div>"
      ],
      "text/plain": [
       "            time  latitude  longitude  temp\n",
       "24651 2015-05-09    51.873     6.8863  14.4\n",
       "24652 2015-05-10    51.873     6.8863  13.0\n",
       "24653 2015-05-11    51.873     6.8863  18.1\n",
       "24654 2015-05-12    51.873     6.8863  15.6\n",
       "24655 2015-05-13    51.873     6.8863  13.1"
      ]
     },
     "execution_count": 106,
     "metadata": {},
     "output_type": "execute_result"
    }
   ],
   "source": [
    "timeseries_list = []\n",
    "for id in station_ids:\n",
    "  df_stations = pd.DataFrame()\n",
    "  df_stations['time'] = df_all_date['time']\n",
    "  df_stations['latitude'] = dfNRW.loc[id]['latitude']\n",
    "  df_stations['longitude'] = dfNRW.loc[id]['longitude']\n",
    "  df_stations['temp'] = df_all_date[id]\n",
    "  timeseries_list.append(df_stations)\n",
    "\n",
    "df_timeseries = pd.concat(timeseries_list)\n",
    "df_timeseries.head()"
   ]
  },
  {
   "cell_type": "code",
   "execution_count": 107,
   "metadata": {
    "colab": {
     "base_uri": "https://localhost:8080/",
     "height": 34
    },
    "colab_type": "code",
    "id": "Yp7veTvXGcjN",
    "outputId": "ae1e3828-60c1-47bb-d8bd-558d4b19ea84"
   },
   "outputs": [
    {
     "data": {
      "text/plain": [
       "(6486, 4)"
      ]
     },
     "execution_count": 107,
     "metadata": {},
     "output_type": "execute_result"
    }
   ],
   "source": [
    "df_timeseries.shape"
   ]
  },
  {
   "cell_type": "code",
   "execution_count": 108,
   "metadata": {
    "colab": {},
    "colab_type": "code",
    "id": "WCs9UqDpF7yl"
   },
   "outputs": [],
   "source": [
    "df_timeseries.to_csv('timeseries_temperature.csv',index= True)\n",
    "# from google.colab import files\n",
    "# files.download('heatmap_temperature.csv')"
   ]
  },
  {
   "cell_type": "markdown",
   "metadata": {
    "colab_type": "text",
    "id": "3wMtSujii553"
   },
   "source": [
    "## data for interpolation\n"
   ]
  },
  {
   "cell_type": "markdown",
   "metadata": {
    "colab_type": "text",
    "id": "KKUtldMX6gQX"
   },
   "source": [
    "Drop overlapping data"
   ]
  },
  {
   "cell_type": "code",
   "execution_count": 109,
   "metadata": {
    "colab": {
     "base_uri": "https://localhost:8080/",
     "height": 34
    },
    "colab_type": "code",
    "id": "siuyd7RH5oge",
    "outputId": "d46eb8a3-8869-4e47-f092-eb9235767616"
   },
   "outputs": [
    {
     "data": {
      "text/plain": [
       "(1081, 8)"
      ]
     },
     "execution_count": 109,
     "metadata": {},
     "output_type": "execute_result"
    }
   ],
   "source": [
    "df_all_date.drop_duplicates(keep='first',inplace=True)\n",
    "df_all_date.shape"
   ]
  },
  {
   "cell_type": "code",
   "execution_count": 110,
   "metadata": {
    "colab": {},
    "colab_type": "code",
    "id": "18elGLaSijAg"
   },
   "outputs": [],
   "source": [
    "df_interpolation = df_all_date.transpose()\n",
    "df_interpolation.drop(['time','avgTemp'],inplace=True)\n",
    "df_interpolation['avgTemp'] = df_interpolation.mean(axis=1)\n",
    "df_interpolation = pd.merge(dfNRW,df_interpolation, left_index=True , right_index=True)\n",
    "df_interpolation[['latitude','longitude','avgTemp']].to_csv('interpolation_temperature.csv',index=True)\n",
    "# from google.colab import files\n",
    "# files.download('interpolation_temperature.csv')"
   ]
  },
  {
   "cell_type": "code",
   "execution_count": 111,
   "metadata": {
    "colab": {},
    "colab_type": "code",
    "id": "24Uk7eL5m5Oh"
   },
   "outputs": [],
   "source": [
    "sensing_data = [df_date_a,df_date_c,df_date_e]\n",
    "i = 0\n",
    "for df in sensing_data:\n",
    "  df = df.transpose()\n",
    "  df.drop(['time','avgTemp'],inplace=True)\n",
    "  df['avgTemp'] = df.mean(axis=1)\n",
    "  df = pd.merge(dfNRW,df, left_index=True , right_index=True)\n",
    "  file_name = 'interpolation_temperature_' + sensing_date[i] + '.csv'\n",
    "  df[['latitude','longitude','avgTemp']].to_csv(file_name,index=True)\n",
    "  i = i + 1\n",
    "#   from google.colab import files\n",
    "#   files.download(file_name)"
   ]
  },
  {
   "cell_type": "markdown",
   "metadata": {
    "colab_type": "text",
    "id": "0vjf-eM1X-uk"
   },
   "source": [
    "# Data from NDVI\n",
    "\n"
   ]
  },
  {
   "cell_type": "markdown",
   "metadata": {
    "colab_type": "text",
    "id": "57g4ulr6GS8t"
   },
   "source": [
    "### Upload QGIS ndvi data\n"
   ]
  },
  {
   "cell_type": "code",
   "execution_count": 112,
   "metadata": {
    "colab": {
     "base_uri": "https://localhost:8080/",
     "height": 40,
     "resources": {
      "http://localhost:8080/nbextensions/google.colab/files.js": {
       "data": "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",
       "headers": [
        [
         "content-type",
         "application/javascript"
        ]
       ],
       "ok": true,
       "status": 200,
       "status_text": ""
      }
     }
    },
    "colab_type": "code",
    "id": "8qNxosx0GCfy",
    "outputId": "c97e283e-1f1e-4ec2-fd0d-6914b905e8b1"
   },
   "outputs": [],
   "source": [
    "# from google.colab import files\n",
    "# uploaded = files.upload()\n",
    "#df_ndvi = pd.read_excel('QGIS_ID.xlsx')"
   ]
  },
  {
   "cell_type": "code",
   "execution_count": 113,
   "metadata": {
    "colab": {
     "base_uri": "https://localhost:8080/",
     "height": 297
    },
    "colab_type": "code",
    "id": "UZ15vRK6CHA6",
    "outputId": "2abd6709-a679-41b4-9e9c-12315b5b3bcb"
   },
   "outputs": [
    {
     "data": {
      "text/html": [
       "<div>\n",
       "<style scoped>\n",
       "    .dataframe tbody tr th:only-of-type {\n",
       "        vertical-align: middle;\n",
       "    }\n",
       "\n",
       "    .dataframe tbody tr th {\n",
       "        vertical-align: top;\n",
       "    }\n",
       "\n",
       "    .dataframe thead th {\n",
       "        text-align: right;\n",
       "    }\n",
       "</style>\n",
       "<table border=\"1\" class=\"dataframe\">\n",
       "  <thead>\n",
       "    <tr style=\"text-align: right;\">\n",
       "      <th></th>\n",
       "      <th>id</th>\n",
       "      <th>MEAN_2016_05_08</th>\n",
       "      <th>MEAN_2016_06_10</th>\n",
       "      <th>MEAN_2017_05_26</th>\n",
       "      <th>MEAN_2018_05_08</th>\n",
       "      <th>MEAN_2018_05_11</th>\n",
       "      <th>MEAN_2018_06_30</th>\n",
       "    </tr>\n",
       "  </thead>\n",
       "  <tbody>\n",
       "    <tr>\n",
       "      <th>0</th>\n",
       "      <td>32</td>\n",
       "      <td>0.798208</td>\n",
       "      <td>0.775341</td>\n",
       "      <td>0.671228</td>\n",
       "      <td>0.794745</td>\n",
       "      <td>0.752385</td>\n",
       "      <td>0.479834</td>\n",
       "    </tr>\n",
       "    <tr>\n",
       "      <th>1</th>\n",
       "      <td>18</td>\n",
       "      <td>0.889797</td>\n",
       "      <td>0.842772</td>\n",
       "      <td>0.691736</td>\n",
       "      <td>0.898376</td>\n",
       "      <td>0.862056</td>\n",
       "      <td>0.721545</td>\n",
       "    </tr>\n",
       "    <tr>\n",
       "      <th>2</th>\n",
       "      <td>15</td>\n",
       "      <td>0.864534</td>\n",
       "      <td>0.746875</td>\n",
       "      <td>0.906339</td>\n",
       "      <td>0.882192</td>\n",
       "      <td>0.855936</td>\n",
       "      <td>0.705695</td>\n",
       "    </tr>\n",
       "    <tr>\n",
       "      <th>3</th>\n",
       "      <td>9</td>\n",
       "      <td>0.736265</td>\n",
       "      <td>0.763494</td>\n",
       "      <td>0.136579</td>\n",
       "      <td>0.761297</td>\n",
       "      <td>0.702213</td>\n",
       "      <td>0.415770</td>\n",
       "    </tr>\n",
       "    <tr>\n",
       "      <th>4</th>\n",
       "      <td>1</td>\n",
       "      <td>0.845699</td>\n",
       "      <td>0.862347</td>\n",
       "      <td>0.930504</td>\n",
       "      <td>0.878997</td>\n",
       "      <td>0.767198</td>\n",
       "      <td>0.899322</td>\n",
       "    </tr>\n",
       "  </tbody>\n",
       "</table>\n",
       "</div>"
      ],
      "text/plain": [
       "   id  MEAN_2016_05_08  MEAN_2016_06_10  MEAN_2017_05_26  MEAN_2018_05_08  \\\n",
       "0  32         0.798208         0.775341         0.671228         0.794745   \n",
       "1  18         0.889797         0.842772         0.691736         0.898376   \n",
       "2  15         0.864534         0.746875         0.906339         0.882192   \n",
       "3   9         0.736265         0.763494         0.136579         0.761297   \n",
       "4   1         0.845699         0.862347         0.930504         0.878997   \n",
       "\n",
       "   MEAN_2018_05_11  MEAN_2018_06_30  \n",
       "0         0.752385         0.479834  \n",
       "1         0.862056         0.721545  \n",
       "2         0.855936         0.705695  \n",
       "3         0.702213         0.415770  \n",
       "4         0.767198         0.899322  "
      ]
     },
     "execution_count": 113,
     "metadata": {},
     "output_type": "execute_result"
    }
   ],
   "source": [
    "df_ndvi.head()"
   ]
  },
  {
   "cell_type": "code",
   "execution_count": 114,
   "metadata": {
    "colab": {
     "base_uri": "https://localhost:8080/",
     "height": 204
    },
    "colab_type": "code",
    "id": "mNDUncWLGsLW",
    "outputId": "cf294052-4032-4615-e25b-04bb778d91e8"
   },
   "outputs": [
    {
     "data": {
      "text/html": [
       "<div>\n",
       "<style scoped>\n",
       "    .dataframe tbody tr th:only-of-type {\n",
       "        vertical-align: middle;\n",
       "    }\n",
       "\n",
       "    .dataframe tbody tr th {\n",
       "        vertical-align: top;\n",
       "    }\n",
       "\n",
       "    .dataframe thead th {\n",
       "        text-align: right;\n",
       "    }\n",
       "</style>\n",
       "<table border=\"1\" class=\"dataframe\">\n",
       "  <thead>\n",
       "    <tr style=\"text-align: right;\">\n",
       "      <th></th>\n",
       "      <th>id</th>\n",
       "      <th>MEAN_2016_05_08</th>\n",
       "      <th>MEAN_2017_05_26</th>\n",
       "      <th>MEAN_2018_05_11</th>\n",
       "    </tr>\n",
       "  </thead>\n",
       "  <tbody>\n",
       "    <tr>\n",
       "      <th>0</th>\n",
       "      <td>32</td>\n",
       "      <td>0.798208</td>\n",
       "      <td>0.671228</td>\n",
       "      <td>0.752385</td>\n",
       "    </tr>\n",
       "    <tr>\n",
       "      <th>1</th>\n",
       "      <td>18</td>\n",
       "      <td>0.889797</td>\n",
       "      <td>0.691736</td>\n",
       "      <td>0.862056</td>\n",
       "    </tr>\n",
       "    <tr>\n",
       "      <th>2</th>\n",
       "      <td>15</td>\n",
       "      <td>0.864534</td>\n",
       "      <td>0.906339</td>\n",
       "      <td>0.855936</td>\n",
       "    </tr>\n",
       "    <tr>\n",
       "      <th>3</th>\n",
       "      <td>9</td>\n",
       "      <td>0.736265</td>\n",
       "      <td>0.136579</td>\n",
       "      <td>0.702213</td>\n",
       "    </tr>\n",
       "    <tr>\n",
       "      <th>4</th>\n",
       "      <td>1</td>\n",
       "      <td>0.845699</td>\n",
       "      <td>0.930504</td>\n",
       "      <td>0.767198</td>\n",
       "    </tr>\n",
       "  </tbody>\n",
       "</table>\n",
       "</div>"
      ],
      "text/plain": [
       "   id  MEAN_2016_05_08  MEAN_2017_05_26  MEAN_2018_05_11\n",
       "0  32         0.798208         0.671228         0.752385\n",
       "1  18         0.889797         0.691736         0.862056\n",
       "2  15         0.864534         0.906339         0.855936\n",
       "3   9         0.736265         0.136579         0.702213\n",
       "4   1         0.845699         0.930504         0.767198"
      ]
     },
     "execution_count": 114,
     "metadata": {},
     "output_type": "execute_result"
    }
   ],
   "source": [
    "df_ndvi = df_ndvi[['id','MEAN_2016_05_08','MEAN_2017_05_26','MEAN_2018_05_11']]\n",
    "df_ndvi.head()"
   ]
  },
  {
   "cell_type": "markdown",
   "metadata": {
    "colab_type": "text",
    "id": "HC7-T4KxX-ul"
   },
   "source": [
    "### adding temperature and cummulative precipitation in ndvi dataframe\n",
    "#avgTemp = [11.220218579234976, 11.019726027397253, 11.410356164383554]\n",
    "#cumPrecipt = [829.4000000000002, 874.0000000000003, 790.9]\n",
    "\n"
   ]
  },
  {
   "cell_type": "code",
   "execution_count": 115,
   "metadata": {
    "colab": {
     "base_uri": "https://localhost:8080/",
     "height": 521
    },
    "colab_type": "code",
    "id": "62TR-uFaX-ux",
    "outputId": "9a2d0634-a124-4ec4-b69f-bc03daf23e56"
   },
   "outputs": [
    {
     "data": {
      "text/html": [
       "<div>\n",
       "<style scoped>\n",
       "    .dataframe tbody tr th:only-of-type {\n",
       "        vertical-align: middle;\n",
       "    }\n",
       "\n",
       "    .dataframe tbody tr th {\n",
       "        vertical-align: top;\n",
       "    }\n",
       "\n",
       "    .dataframe thead th {\n",
       "        text-align: right;\n",
       "    }\n",
       "</style>\n",
       "<table border=\"1\" class=\"dataframe\">\n",
       "  <thead>\n",
       "    <tr style=\"text-align: right;\">\n",
       "      <th></th>\n",
       "      <th>id</th>\n",
       "      <th>MEAN_2016_05_08</th>\n",
       "      <th>MEAN_2017_05_26</th>\n",
       "      <th>MEAN_2018_05_11</th>\n",
       "      <th>AVG_TEMP_2016_05_08</th>\n",
       "      <th>AVG_TEMP_2017_05_26</th>\n",
       "      <th>AVG_TEMP_2018_05_11</th>\n",
       "      <th>CUM_PRECIPIT_2016_05_08</th>\n",
       "      <th>CUM_PRECIPIT_2017_05_26</th>\n",
       "      <th>CUM_PRECIPIT_2018_05_11</th>\n",
       "    </tr>\n",
       "  </thead>\n",
       "  <tbody>\n",
       "    <tr>\n",
       "      <th>0</th>\n",
       "      <td>32</td>\n",
       "      <td>0.798208</td>\n",
       "      <td>0.671228</td>\n",
       "      <td>0.752385</td>\n",
       "      <td>11.22</td>\n",
       "      <td>11.01</td>\n",
       "      <td>11.41</td>\n",
       "      <td>829.4</td>\n",
       "      <td>874.0</td>\n",
       "      <td>790.9</td>\n",
       "    </tr>\n",
       "    <tr>\n",
       "      <th>1</th>\n",
       "      <td>18</td>\n",
       "      <td>0.889797</td>\n",
       "      <td>0.691736</td>\n",
       "      <td>0.862056</td>\n",
       "      <td>11.22</td>\n",
       "      <td>11.01</td>\n",
       "      <td>11.41</td>\n",
       "      <td>829.4</td>\n",
       "      <td>874.0</td>\n",
       "      <td>790.9</td>\n",
       "    </tr>\n",
       "    <tr>\n",
       "      <th>2</th>\n",
       "      <td>15</td>\n",
       "      <td>0.864534</td>\n",
       "      <td>0.906339</td>\n",
       "      <td>0.855936</td>\n",
       "      <td>11.22</td>\n",
       "      <td>11.01</td>\n",
       "      <td>11.41</td>\n",
       "      <td>829.4</td>\n",
       "      <td>874.0</td>\n",
       "      <td>790.9</td>\n",
       "    </tr>\n",
       "    <tr>\n",
       "      <th>3</th>\n",
       "      <td>9</td>\n",
       "      <td>0.736265</td>\n",
       "      <td>0.136579</td>\n",
       "      <td>0.702213</td>\n",
       "      <td>11.22</td>\n",
       "      <td>11.01</td>\n",
       "      <td>11.41</td>\n",
       "      <td>829.4</td>\n",
       "      <td>874.0</td>\n",
       "      <td>790.9</td>\n",
       "    </tr>\n",
       "    <tr>\n",
       "      <th>4</th>\n",
       "      <td>1</td>\n",
       "      <td>0.845699</td>\n",
       "      <td>0.930504</td>\n",
       "      <td>0.767198</td>\n",
       "      <td>11.22</td>\n",
       "      <td>11.01</td>\n",
       "      <td>11.41</td>\n",
       "      <td>829.4</td>\n",
       "      <td>874.0</td>\n",
       "      <td>790.9</td>\n",
       "    </tr>\n",
       "    <tr>\n",
       "      <th>5</th>\n",
       "      <td>40</td>\n",
       "      <td>0.914392</td>\n",
       "      <td>0.376985</td>\n",
       "      <td>0.860190</td>\n",
       "      <td>11.22</td>\n",
       "      <td>11.01</td>\n",
       "      <td>11.41</td>\n",
       "      <td>829.4</td>\n",
       "      <td>874.0</td>\n",
       "      <td>790.9</td>\n",
       "    </tr>\n",
       "    <tr>\n",
       "      <th>6</th>\n",
       "      <td>38</td>\n",
       "      <td>0.081530</td>\n",
       "      <td>-0.622984</td>\n",
       "      <td>0.180964</td>\n",
       "      <td>11.22</td>\n",
       "      <td>11.01</td>\n",
       "      <td>11.41</td>\n",
       "      <td>829.4</td>\n",
       "      <td>874.0</td>\n",
       "      <td>790.9</td>\n",
       "    </tr>\n",
       "    <tr>\n",
       "      <th>7</th>\n",
       "      <td>34</td>\n",
       "      <td>0.513230</td>\n",
       "      <td>0.537630</td>\n",
       "      <td>0.493366</td>\n",
       "      <td>11.22</td>\n",
       "      <td>11.01</td>\n",
       "      <td>11.41</td>\n",
       "      <td>829.4</td>\n",
       "      <td>874.0</td>\n",
       "      <td>790.9</td>\n",
       "    </tr>\n",
       "  </tbody>\n",
       "</table>\n",
       "</div>"
      ],
      "text/plain": [
       "   id  MEAN_2016_05_08  MEAN_2017_05_26  MEAN_2018_05_11  AVG_TEMP_2016_05_08  \\\n",
       "0  32         0.798208         0.671228         0.752385                11.22   \n",
       "1  18         0.889797         0.691736         0.862056                11.22   \n",
       "2  15         0.864534         0.906339         0.855936                11.22   \n",
       "3   9         0.736265         0.136579         0.702213                11.22   \n",
       "4   1         0.845699         0.930504         0.767198                11.22   \n",
       "5  40         0.914392         0.376985         0.860190                11.22   \n",
       "6  38         0.081530        -0.622984         0.180964                11.22   \n",
       "7  34         0.513230         0.537630         0.493366                11.22   \n",
       "\n",
       "   AVG_TEMP_2017_05_26  AVG_TEMP_2018_05_11  CUM_PRECIPIT_2016_05_08  \\\n",
       "0                11.01                11.41                    829.4   \n",
       "1                11.01                11.41                    829.4   \n",
       "2                11.01                11.41                    829.4   \n",
       "3                11.01                11.41                    829.4   \n",
       "4                11.01                11.41                    829.4   \n",
       "5                11.01                11.41                    829.4   \n",
       "6                11.01                11.41                    829.4   \n",
       "7                11.01                11.41                    829.4   \n",
       "\n",
       "   CUM_PRECIPIT_2017_05_26  CUM_PRECIPIT_2018_05_11  \n",
       "0                    874.0                    790.9  \n",
       "1                    874.0                    790.9  \n",
       "2                    874.0                    790.9  \n",
       "3                    874.0                    790.9  \n",
       "4                    874.0                    790.9  \n",
       "5                    874.0                    790.9  \n",
       "6                    874.0                    790.9  \n",
       "7                    874.0                    790.9  "
      ]
     },
     "execution_count": 115,
     "metadata": {},
     "output_type": "execute_result"
    }
   ],
   "source": [
    "df_ndvi['AVG_TEMP_2016_05_08'] = 11.22\n",
    "df_ndvi['AVG_TEMP_2017_05_26'] = 11.01\n",
    "df_ndvi['AVG_TEMP_2018_05_11'] = 11.41\n",
    "df_ndvi['CUM_PRECIPIT_2016_05_08'] = 829.4\n",
    "df_ndvi['CUM_PRECIPIT_2017_05_26'] = 874.0\n",
    "df_ndvi['CUM_PRECIPIT_2018_05_11'] = 790.9\n",
    "df_ndvi"
   ]
  },
  {
   "cell_type": "markdown",
   "metadata": {
    "colab_type": "text",
    "id": "49-_6T77DosN"
   },
   "source": [
    "Create Dataframe for correaltion analysis\n"
   ]
  },
  {
   "cell_type": "code",
   "execution_count": 116,
   "metadata": {
    "colab": {},
    "colab_type": "code",
    "id": "UWnGBaOS1Zh2"
   },
   "outputs": [],
   "source": [
    "def create_dataframe_for_corelation(row):\n",
    "  data_dic = {}\n",
    "  dates = ['2016_05_08','2017_05_26','2018_05_11']\n",
    "  number_of_sensing_dates = 3\n",
    "  ndvi_start_pos = 1\n",
    "  while ndvi_start_pos <= number_of_sensing_dates:\n",
    "    data_dic['id'] = row['id']\n",
    "    data_dic['meanNDVI'] = row.iloc[ndvi_start_pos]\n",
    "    data_dic['avgTemp'] = row.iloc[ndvi_start_pos + number_of_sensing_dates ]\n",
    "    data_dic['cumPrecipt'] = row.iloc[ndvi_start_pos + 2 * number_of_sensing_dates ]\n",
    "    data_dic['tillDate'] = dates[ndvi_start_pos-1]\n",
    "    data_list.append(data_dic)\n",
    "    data_dic = {}\n",
    "    ndvi_start_pos = ndvi_start_pos + 1"
   ]
  },
  {
   "cell_type": "code",
   "execution_count": 117,
   "metadata": {
    "colab": {
     "base_uri": "https://localhost:8080/",
     "height": 204
    },
    "colab_type": "code",
    "id": "TPynNPfWAuAr",
    "outputId": "e43fb749-0102-4f16-aa41-b885c8f13d96"
   },
   "outputs": [
    {
     "data": {
      "text/html": [
       "<div>\n",
       "<style scoped>\n",
       "    .dataframe tbody tr th:only-of-type {\n",
       "        vertical-align: middle;\n",
       "    }\n",
       "\n",
       "    .dataframe tbody tr th {\n",
       "        vertical-align: top;\n",
       "    }\n",
       "\n",
       "    .dataframe thead th {\n",
       "        text-align: right;\n",
       "    }\n",
       "</style>\n",
       "<table border=\"1\" class=\"dataframe\">\n",
       "  <thead>\n",
       "    <tr style=\"text-align: right;\">\n",
       "      <th></th>\n",
       "      <th>avgTemp</th>\n",
       "      <th>cumPrecipt</th>\n",
       "      <th>id</th>\n",
       "      <th>meanNDVI</th>\n",
       "      <th>tillDate</th>\n",
       "    </tr>\n",
       "  </thead>\n",
       "  <tbody>\n",
       "    <tr>\n",
       "      <th>0</th>\n",
       "      <td>11.22</td>\n",
       "      <td>829.4</td>\n",
       "      <td>32.0</td>\n",
       "      <td>0.798208</td>\n",
       "      <td>2016_05_08</td>\n",
       "    </tr>\n",
       "    <tr>\n",
       "      <th>1</th>\n",
       "      <td>11.01</td>\n",
       "      <td>874.0</td>\n",
       "      <td>32.0</td>\n",
       "      <td>0.671228</td>\n",
       "      <td>2017_05_26</td>\n",
       "    </tr>\n",
       "    <tr>\n",
       "      <th>2</th>\n",
       "      <td>11.41</td>\n",
       "      <td>790.9</td>\n",
       "      <td>32.0</td>\n",
       "      <td>0.752385</td>\n",
       "      <td>2018_05_11</td>\n",
       "    </tr>\n",
       "    <tr>\n",
       "      <th>3</th>\n",
       "      <td>11.22</td>\n",
       "      <td>829.4</td>\n",
       "      <td>18.0</td>\n",
       "      <td>0.889797</td>\n",
       "      <td>2016_05_08</td>\n",
       "    </tr>\n",
       "    <tr>\n",
       "      <th>4</th>\n",
       "      <td>11.01</td>\n",
       "      <td>874.0</td>\n",
       "      <td>18.0</td>\n",
       "      <td>0.691736</td>\n",
       "      <td>2017_05_26</td>\n",
       "    </tr>\n",
       "  </tbody>\n",
       "</table>\n",
       "</div>"
      ],
      "text/plain": [
       "   avgTemp  cumPrecipt    id  meanNDVI    tillDate\n",
       "0    11.22       829.4  32.0  0.798208  2016_05_08\n",
       "1    11.01       874.0  32.0  0.671228  2017_05_26\n",
       "2    11.41       790.9  32.0  0.752385  2018_05_11\n",
       "3    11.22       829.4  18.0  0.889797  2016_05_08\n",
       "4    11.01       874.0  18.0  0.691736  2017_05_26"
      ]
     },
     "execution_count": 117,
     "metadata": {},
     "output_type": "execute_result"
    }
   ],
   "source": [
    "data_list = []\n",
    "df_ndvi.apply(create_dataframe_for_corelation,axis =1)\n",
    "df_correlation = pd.DataFrame(data_list)\n",
    "df_correlation.head()"
   ]
  },
  {
   "cell_type": "markdown",
   "metadata": {
    "colab_type": "text",
    "id": "9rtHwlK3DxCQ"
   },
   "source": [
    "### find corelation for each id"
   ]
  },
  {
   "cell_type": "code",
   "execution_count": 118,
   "metadata": {
    "colab": {},
    "colab_type": "code",
    "id": "-Qq1cYkQX-u2"
   },
   "outputs": [],
   "source": [
    "uniqueId = df_correlation['id'].unique()"
   ]
  },
  {
   "cell_type": "code",
   "execution_count": 119,
   "metadata": {
    "colab": {
     "base_uri": "https://localhost:8080/",
     "height": 697
    },
    "colab_type": "code",
    "id": "yngAe1n0KyxV",
    "outputId": "d3dc50df-b03d-4672-efb9-8f363f86f17b"
   },
   "outputs": [
    {
     "name": "stdout",
     "output_type": "stream",
     "text": [
      "corelation of the id 32.0\n",
      "            meanNDVI   avgTemp  cumPrecipt\n",
      "meanNDVI    1.000000  0.653165   -0.663324\n",
      "avgTemp     0.653165  1.000000   -0.999909\n",
      "cumPrecipt -0.663324 -0.999909    1.000000\n",
      "corelation of the id 18.0\n",
      "            meanNDVI   avgTemp  cumPrecipt\n",
      "meanNDVI    1.000000  0.811291   -0.819107\n",
      "avgTemp     0.811291  1.000000   -0.999909\n",
      "cumPrecipt -0.819107 -0.999909    1.000000\n",
      "corelation of the id 15.0\n",
      "            meanNDVI   avgTemp  cumPrecipt\n",
      "meanNDVI    1.000000 -0.944538    0.948884\n",
      "avgTemp    -0.944538  1.000000   -0.999909\n",
      "cumPrecipt  0.948884 -0.999909    1.000000\n",
      "corelation of the id 9.0\n",
      "            meanNDVI   avgTemp  cumPrecipt\n",
      "meanNDVI    1.000000  0.854967   -0.861889\n",
      "avgTemp     0.854967  1.000000   -0.999909\n",
      "cumPrecipt -0.861889 -0.999909    1.000000\n",
      "corelation of the id 1.0\n",
      "            meanNDVI   avgTemp  cumPrecipt\n",
      "meanNDVI    1.000000 -0.999978    0.999799\n",
      "avgTemp    -0.999978  1.000000   -0.999909\n",
      "cumPrecipt  0.999799 -0.999909    1.000000\n",
      "corelation of the id 40.0\n",
      "            meanNDVI   avgTemp  cumPrecipt\n",
      "meanNDVI    1.000000  0.832902   -0.840295\n",
      "avgTemp     0.832902  1.000000   -0.999909\n",
      "cumPrecipt -0.840295 -0.999909    1.000000\n",
      "corelation of the id 38.0\n",
      "            meanNDVI   avgTemp  cumPrecipt\n",
      "meanNDVI    1.000000  0.928271   -0.933206\n",
      "avgTemp     0.928271  1.000000   -0.999909\n",
      "cumPrecipt -0.933206 -0.999909    1.000000\n",
      "corelation of the id 34.0\n",
      "            meanNDVI   avgTemp  cumPrecipt\n",
      "meanNDVI    1.000000 -0.999543    0.999860\n",
      "avgTemp    -0.999543  1.000000   -0.999909\n",
      "cumPrecipt  0.999860 -0.999909    1.000000\n"
     ]
    }
   ],
   "source": [
    "for id in uniqueId:\n",
    "  print('corelation of the id',id)\n",
    "  print(df_correlation[df_correlation['id']==id][['meanNDVI','avgTemp','cumPrecipt']].corr(method ='pearson'))"
   ]
  },
  {
   "cell_type": "markdown",
   "metadata": {
    "colab_type": "text",
    "id": "zfM_RBlZOHmZ"
   },
   "source": [
    "# Plot NDVI with AvgTemp"
   ]
  },
  {
   "cell_type": "markdown",
   "metadata": {
    "colab_type": "text",
    "id": "wZyYI9pF_-Pm"
   },
   "source": [
    "Scatter plot for meanNDVi with avgTemp and cumprecipt\n"
   ]
  },
  {
   "cell_type": "markdown",
   "metadata": {
    "colab_type": "text",
    "id": "rVgRTIBt5vs7"
   },
   "source": [
    "forest and pasture id are 1, 34"
   ]
  },
  {
   "cell_type": "code",
   "execution_count": 120,
   "metadata": {
    "colab": {},
    "colab_type": "code",
    "id": "Fe2FP270544u"
   },
   "outputs": [],
   "source": [
    "forestIds = [1,34]"
   ]
  },
  {
   "cell_type": "code",
   "execution_count": 121,
   "metadata": {
    "colab": {
     "base_uri": "https://localhost:8080/",
     "height": 317
    },
    "colab_type": "code",
    "id": "XbhJ3YONzDEj",
    "outputId": "17652c94-e562-4361-fc43-76f965a9afd5",
    "scrolled": true
   },
   "outputs": [
    {
     "data": {
      "text/plain": [
       "<Figure size 720x720 with 0 Axes>"
      ]
     },
     "metadata": {},
     "output_type": "display_data"
    },
    {
     "data": {
      "image/png": "[encoded data removed]",
      "text/plain": [
       "<Figure size 432x288 with 1 Axes>"
      ]
     },
     "metadata": {},
     "output_type": "display_data"
    }
   ],
   "source": [
    "try:\n",
    "    plt.figure(figsize=(10,10))\n",
    "    fig, ax = plt.subplots()\n",
    "    scatter = ax.scatter(x =df_correlation[df_correlation['id'].isin(forestIds)]['avgTemp'],y= df_correlation[df_correlation['id'].isin(forestIds)]['meanNDVI'] ,c = df_correlation[df_correlation['id'].isin(forestIds)]['id'] , s = 200)\n",
    "    legend1 = ax.legend(*scatter.legend_elements(),loc='center left', bbox_to_anchor=(1, 0.5))\n",
    "    ax.add_artist(legend1)\n",
    "    plt.xlabel('Average Temperature($^\\circ$C)')\n",
    "    plt.ylabel('Mean NDVI value')\n",
    "except:\n",
    "    plt.scatter(x =df_correlation[df_correlation['id'].isin(forestIds)]['avgTemp'],y= df_correlation[df_correlation['id'].isin(forestIds)]['meanNDVI'] ,c = df_correlation[df_correlation['id'].isin(forestIds)]['id'] , s = 200)\n",
    "    plt.xlabel('Average Temperature($^\\circ$C)')\n",
    "    plt.ylabel('Mean NDVI value')"
   ]
  },
  {
   "cell_type": "markdown",
   "metadata": {},
   "source": [
    "# Plot NDVI with Cumulative preciptation"
   ]
  },
  {
   "cell_type": "code",
   "execution_count": 59,
   "metadata": {
    "colab": {
     "base_uri": "https://localhost:8080/",
     "height": 313
    },
    "colab_type": "code",
    "id": "EhYq06-S-vWc",
    "outputId": "83557ec3-6c0d-439c-f74d-6f12a71d28a9"
   },
   "outputs": [
    {
     "data": {
      "text/plain": [
       "<Figure size 720x720 with 0 Axes>"
      ]
     },
     "metadata": {},
     "output_type": "display_data"
    },
    {
     "data": {
      "image/png": "[encoded data removed]",
      "text/plain": [
       "<Figure size 432x288 with 1 Axes>"
      ]
     },
     "metadata": {},
     "output_type": "display_data"
    }
   ],
   "source": [
    "try:\n",
    "    plt.figure(figsize=(10,10))\n",
    "    fig, ax = plt.subplots()\n",
    "    scatter = ax.scatter(x =df_correlation[df_correlation['id'].isin(forestIds)]['cumPrecipt'],y= df_correlation[df_correlation['id'].isin(forestIds)]['meanNDVI'] ,c = df_correlation[df_correlation['id'].isin(forestIds)]['id'] , s = 200)\n",
    "    legend1 = ax.legend(*scatter.legend_elements(),loc='center left', bbox_to_anchor=(1, 0.5))\n",
    "    ax.add_artist(legend1)\n",
    "    plt.xlabel('Cumulative Precipitation(mm)')\n",
    "    plt.ylabel('Mean NDVI value')\n",
    "\n",
    "except:\n",
    "    plt.scatter(x =df_correlation[df_correlation['id'].isin(forestIds)]['cumPrecipt'],y= df_correlation[df_correlation['id'].isin(forestIds)]['meanNDVI'] ,c = df_correlation[df_correlation['id'].isin(forestIds)]['id'] , s = 200)\n",
    "    plt.xlabel('Cumulative Precipitation(mm)')\n",
    "    plt.ylabel('Mean NDVI value')"
   ]
  },
  {
   "cell_type": "markdown",
   "metadata": {
    "colab_type": "text",
    "id": "sEWbCE5FvKMn"
   },
   "source": [
    "# Average temperature vs Cumulative precpitation\n"
   ]
  },
  {
   "cell_type": "code",
   "execution_count": 60,
   "metadata": {
    "colab": {},
    "colab_type": "code",
    "id": "7FYV-3JLvJkJ"
   },
   "outputs": [],
   "source": [
    "avgTemp = [11.220218579234976, 11.019726027397253, 11.410356164383554]\n",
    "cumPrecipt = [829.4000000000002, 874.0000000000003, 790.9]\n"
   ]
  },
  {
   "cell_type": "code",
   "execution_count": 61,
   "metadata": {
    "colab": {
     "base_uri": "https://localhost:8080/",
     "height": 296
    },
    "colab_type": "code",
    "id": "o15xQq0dvqV2",
    "outputId": "4e7af75e-ce59-4d48-fe0c-acbb519d726b"
   },
   "outputs": [
    {
     "data": {
      "image/png": "[encoded data removed]",
      "text/plain": [
       "<Figure size 432x288 with 1 Axes>"
      ]
     },
     "metadata": {},
     "output_type": "display_data"
    }
   ],
   "source": [
    "try:\n",
    "    fig, ax = plt.subplots()\n",
    "    scatter = ax.scatter(cumPrecipt,avgTemp, c = [2016,2017,2018], s= 200)\n",
    "    plt.ylabel('Average Temperature($^\\circ$C)')\n",
    "    plt.xlabel('Cumulative Precipitation(mm)')\n",
    "    legend1 = ax.legend(*scatter.legend_elements(),loc='center left', bbox_to_anchor=(1, 0.5))\n",
    "    ax.add_artist(legend1)\n",
    "except:\n",
    "    plt.scatter(cumPrecipt,avgTemp, c = [2016,2017,2018], s= 200)\n",
    "    plt.ylabel('Average Temperature($^\\circ$C)')\n",
    "    plt.xlabel('Cumulative Precipitation(mm)')"
   ]
  },
  {
   "cell_type": "markdown",
   "metadata": {
    "colab_type": "text",
    "id": "WEGcLn7N840V"
   },
   "source": [
    "### Confidence interval of Temperature\n"
   ]
  },
  {
   "cell_type": "code",
   "execution_count": 62,
   "metadata": {
    "colab": {},
    "colab_type": "code",
    "id": "1beizOk68UJf"
   },
   "outputs": [],
   "source": [
    "import numpy as np\n",
    "import scipy.stats\n",
    "\n",
    "\n",
    "def mean_confidence_interval(data, confidence=0.95):\n",
    "    a = 1.0 * np.array(data)\n",
    "    n = len(a)\n",
    "    m, se = np.mean(a), scipy.stats.sem(a)\n",
    "    h = se * scipy.stats.t.ppf((1 + confidence) / 2., n-1)\n",
    "    return m, m-h, m+h"
   ]
  },
  {
   "cell_type": "code",
   "execution_count": 63,
   "metadata": {
    "colab": {
     "base_uri": "https://localhost:8080/",
     "height": 204
    },
    "colab_type": "code",
    "id": "8S1oeiYGhap6",
    "outputId": "6ed42c91-dd22-4e99-b6a3-0d1c8b7d4c6a"
   },
   "outputs": [
    {
     "data": {
      "text/html": [
       "<div>\n",
       "<style scoped>\n",
       "    .dataframe tbody tr th:only-of-type {\n",
       "        vertical-align: middle;\n",
       "    }\n",
       "\n",
       "    .dataframe tbody tr th {\n",
       "        vertical-align: top;\n",
       "    }\n",
       "\n",
       "    .dataframe thead th {\n",
       "        text-align: right;\n",
       "    }\n",
       "</style>\n",
       "<table border=\"1\" class=\"dataframe\">\n",
       "  <thead>\n",
       "    <tr style=\"text-align: right;\">\n",
       "      <th></th>\n",
       "      <th>time</th>\n",
       "      <th>617</th>\n",
       "      <th>1078</th>\n",
       "      <th>1590</th>\n",
       "      <th>2629</th>\n",
       "      <th>5064</th>\n",
       "      <th>13670</th>\n",
       "      <th>avgTemp</th>\n",
       "    </tr>\n",
       "  </thead>\n",
       "  <tbody>\n",
       "    <tr>\n",
       "      <th>24651</th>\n",
       "      <td>2015-05-09</td>\n",
       "      <td>14.4</td>\n",
       "      <td>15.8</td>\n",
       "      <td>15.1</td>\n",
       "      <td>13.9</td>\n",
       "      <td>15.6</td>\n",
       "      <td>15.3</td>\n",
       "      <td>15.016667</td>\n",
       "    </tr>\n",
       "    <tr>\n",
       "      <th>24652</th>\n",
       "      <td>2015-05-10</td>\n",
       "      <td>13.0</td>\n",
       "      <td>14.3</td>\n",
       "      <td>14.4</td>\n",
       "      <td>13.2</td>\n",
       "      <td>14.3</td>\n",
       "      <td>13.9</td>\n",
       "      <td>13.850000</td>\n",
       "    </tr>\n",
       "    <tr>\n",
       "      <th>24653</th>\n",
       "      <td>2015-05-11</td>\n",
       "      <td>18.1</td>\n",
       "      <td>18.7</td>\n",
       "      <td>19.2</td>\n",
       "      <td>18.2</td>\n",
       "      <td>18.8</td>\n",
       "      <td>19.3</td>\n",
       "      <td>18.716667</td>\n",
       "    </tr>\n",
       "    <tr>\n",
       "      <th>24654</th>\n",
       "      <td>2015-05-12</td>\n",
       "      <td>15.6</td>\n",
       "      <td>17.4</td>\n",
       "      <td>16.3</td>\n",
       "      <td>15.1</td>\n",
       "      <td>16.4</td>\n",
       "      <td>16.5</td>\n",
       "      <td>16.216667</td>\n",
       "    </tr>\n",
       "    <tr>\n",
       "      <th>24655</th>\n",
       "      <td>2015-05-13</td>\n",
       "      <td>13.1</td>\n",
       "      <td>13.6</td>\n",
       "      <td>13.8</td>\n",
       "      <td>12.6</td>\n",
       "      <td>13.8</td>\n",
       "      <td>13.7</td>\n",
       "      <td>13.433333</td>\n",
       "    </tr>\n",
       "  </tbody>\n",
       "</table>\n",
       "</div>"
      ],
      "text/plain": [
       "            time   617  1078  1590  2629  5064  13670    avgTemp\n",
       "24651 2015-05-09  14.4  15.8  15.1  13.9  15.6   15.3  15.016667\n",
       "24652 2015-05-10  13.0  14.3  14.4  13.2  14.3   13.9  13.850000\n",
       "24653 2015-05-11  18.1  18.7  19.2  18.2  18.8   19.3  18.716667\n",
       "24654 2015-05-12  15.6  17.4  16.3  15.1  16.4   16.5  16.216667\n",
       "24655 2015-05-13  13.1  13.6  13.8  12.6  13.8   13.7  13.433333"
      ]
     },
     "execution_count": 63,
     "metadata": {},
     "output_type": "execute_result"
    }
   ],
   "source": [
    "df_all_date.head()"
   ]
  },
  {
   "cell_type": "code",
   "execution_count": 64,
   "metadata": {
    "colab": {
     "base_uri": "https://localhost:8080/",
     "height": 34
    },
    "colab_type": "code",
    "id": "EOHyNG8zoR7e",
    "outputId": "bc275a0a-029a-4879-e49b-c8f79e97c97a"
   },
   "outputs": [
    {
     "data": {
      "text/plain": [
       "(11.13109466543324, 10.740761590728471, 11.521427740138009)"
      ]
     },
     "execution_count": 64,
     "metadata": {},
     "output_type": "execute_result"
    }
   ],
   "source": [
    "mean_confidence_interval(df_all_date['avgTemp'])"
   ]
  },
  {
   "cell_type": "code",
   "execution_count": 125,
   "metadata": {},
   "outputs": [
    {
     "data": {
      "text/html": [
       "<div>\n",
       "<style scoped>\n",
       "    .dataframe tbody tr th:only-of-type {\n",
       "        vertical-align: middle;\n",
       "    }\n",
       "\n",
       "    .dataframe tbody tr th {\n",
       "        vertical-align: top;\n",
       "    }\n",
       "\n",
       "    .dataframe thead th {\n",
       "        text-align: right;\n",
       "    }\n",
       "</style>\n",
       "<table border=\"1\" class=\"dataframe\">\n",
       "  <thead>\n",
       "    <tr style=\"text-align: right;\">\n",
       "      <th></th>\n",
       "      <th>avgTemp</th>\n",
       "      <th>cumPrecipt</th>\n",
       "      <th>id</th>\n",
       "      <th>meanNDVI</th>\n",
       "      <th>tillDate</th>\n",
       "    </tr>\n",
       "  </thead>\n",
       "  <tbody>\n",
       "    <tr>\n",
       "      <th>0</th>\n",
       "      <td>11.22</td>\n",
       "      <td>829.4</td>\n",
       "      <td>32.0</td>\n",
       "      <td>0.798208</td>\n",
       "      <td>2016_05_08</td>\n",
       "    </tr>\n",
       "    <tr>\n",
       "      <th>1</th>\n",
       "      <td>11.01</td>\n",
       "      <td>874.0</td>\n",
       "      <td>32.0</td>\n",
       "      <td>0.671228</td>\n",
       "      <td>2017_05_26</td>\n",
       "    </tr>\n",
       "    <tr>\n",
       "      <th>2</th>\n",
       "      <td>11.41</td>\n",
       "      <td>790.9</td>\n",
       "      <td>32.0</td>\n",
       "      <td>0.752385</td>\n",
       "      <td>2018_05_11</td>\n",
       "    </tr>\n",
       "    <tr>\n",
       "      <th>3</th>\n",
       "      <td>11.22</td>\n",
       "      <td>829.4</td>\n",
       "      <td>18.0</td>\n",
       "      <td>0.889797</td>\n",
       "      <td>2016_05_08</td>\n",
       "    </tr>\n",
       "    <tr>\n",
       "      <th>4</th>\n",
       "      <td>11.01</td>\n",
       "      <td>874.0</td>\n",
       "      <td>18.0</td>\n",
       "      <td>0.691736</td>\n",
       "      <td>2017_05_26</td>\n",
       "    </tr>\n",
       "  </tbody>\n",
       "</table>\n",
       "</div>"
      ],
      "text/plain": [
       "   avgTemp  cumPrecipt    id  meanNDVI    tillDate\n",
       "0    11.22       829.4  32.0  0.798208  2016_05_08\n",
       "1    11.01       874.0  32.0  0.671228  2017_05_26\n",
       "2    11.41       790.9  32.0  0.752385  2018_05_11\n",
       "3    11.22       829.4  18.0  0.889797  2016_05_08\n",
       "4    11.01       874.0  18.0  0.691736  2017_05_26"
      ]
     },
     "execution_count": 125,
     "metadata": {},
     "output_type": "execute_result"
    }
   ],
   "source": [
    "df_correlation.head()"
   ]
  },
  {
   "cell_type": "code",
   "execution_count": null,
   "metadata": {},
   "outputs": [],
   "source": []
  }
 ],
 "metadata": {
  "colab": {
   "collapsed_sections": [],
   "name": "temperature_update.ipynb",
   "provenance": []
  },
  "kernelspec": {
   "display_name": "Python 3",
   "language": "python",
   "name": "python3"
  },
  "language_info": {
   "codemirror_mode": {
    "name": "ipython",
    "version": 3
   },
   "file_extension": ".py",
   "mimetype": "text/x-python",
   "name": "python",
   "nbconvert_exporter": "python",
   "pygments_lexer": "ipython3",
   "version": "3.6.5"
  }
 },
 "nbformat": 4,
 "nbformat_minor": 1
}
